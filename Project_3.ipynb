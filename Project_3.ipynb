{
 "cells": [
  {
   "cell_type": "markdown",
   "metadata": {
    "colab_type": "text",
    "id": "UHs39h-Uf0T7"
   },
   "source": [
    "# Project 3: Computer Vision\n",
    "##### Satjyot Atwal\n",
    "##### Hung Quach\n",
    "##### Zining Yang"
   ]
  },
  {
   "cell_type": "markdown",
   "metadata": {
    "colab_type": "text",
    "id": "_f6E8-YPi9TR"
   },
   "source": [
    "## Imports and Functions"
   ]
  },
  {
   "cell_type": "code",
   "execution_count": 4,
   "metadata": {
    "colab": {
     "base_uri": "https://localhost:8080/",
     "height": 51
    },
    "colab_type": "code",
    "id": "irSAs3eAi6Bb",
    "outputId": "62374c0a-cccd-4241-e21f-b8fe9c05bfb5"
   },
   "outputs": [
    {
     "name": "stderr",
     "output_type": "stream",
     "text": [
      "UsageError: Line magic function `%tensorflow_version` not found.\n"
     ]
    }
   ],
   "source": [
    "# Use TensorFlow version 2\n",
    "%tensorflow_version 2.x \n",
    "%matplotlib inline\n",
    "import numpy as np\n",
    "import pandas as pd\n",
    "import matplotlib.pyplot as plt\n",
    "import os\n",
    "import random\n",
    "from google.colab import drive\n",
    "\n",
    "import tensorflow as tf\n",
    "from keras.datasets import cifar10\n",
    "from tensorflow.keras.models import Sequential, load_model\n",
    "from tensorflow.keras.layers import Dense, Activation, Dropout, Flatten, Conv2D, MaxPooling2D\n",
    "from tensorflow.keras.callbacks import EarlyStopping, ModelCheckpoint\n",
    "from tensorflow.keras.applications.vgg16 import VGG16\n",
    "from tensorflow.keras.optimizers import Adam\n",
    "        \n",
    "from sklearn import metrics\n",
    "from sklearn import preprocessing\n",
    "\n",
    "# Google Drive is mounted to /content/gdrive/My Drive/\n",
    "save_path = \"/content/gdrive/My Drive/Saved_NN/\"\n",
    "\n",
    "\n",
    "def cm_visual(y_true, pred, outcome):\n",
    "    cm = metrics.confusion_matrix(y_true, pred)\n",
    "    print(cm)\n",
    "\n",
    "    plt.figure(figsize=(8, 8))\n",
    "    plot_confusion_matrix(cm, outcome)\n",
    "    plt.show()\n",
    "\n",
    "    print(metrics.classification_report(y_true, pred))\n",
    "\n",
    "\n",
    "# Plot a confusion matrix.\n",
    "# cm is the confusion matrix, names are the names of the classes.\n",
    "def plot_confusion_matrix(cm, names, title='Confusion matrix', cmap=plt.cm.Blues):\n",
    "    plt.imshow(cm, interpolation='nearest', cmap=cmap)\n",
    "    plt.title(title)\n",
    "    plt.colorbar()\n",
    "    tick_marks = np.arange(len(names))\n",
    "    plt.xticks(tick_marks, names, rotation=45)\n",
    "    plt.yticks(tick_marks, names)\n",
    "    plt.tight_layout()\n",
    "    plt.ylabel('True label')\n",
    "    plt.xlabel('Predicted label')"
   ]
  },
  {
   "cell_type": "markdown",
   "metadata": {
    "colab_type": "text",
    "id": "Xf565s6GSu3h"
   },
   "source": [
    "## Verify I am using Tensorflow Version 2"
   ]
  },
  {
   "cell_type": "code",
   "execution_count": null,
   "metadata": {
    "colab": {
     "base_uri": "https://localhost:8080/",
     "height": 187
    },
    "colab_type": "code",
    "id": "JJIo-w-gSYDb",
    "outputId": "349cf8ce-83c5-4340-a895-e79b38528fe0"
   },
   "outputs": [
    {
     "name": "stdout",
     "output_type": "stream",
     "text": [
      "Name: tensorflow\n",
      "Version: 2.1.0\n",
      "Summary: TensorFlow is an open source machine learning framework for everyone.\n",
      "Home-page: https://www.tensorflow.org/\n",
      "Author: Google Inc.\n",
      "Author-email: packages@tensorflow.org\n",
      "License: Apache 2.0\n",
      "Location: /usr/local/lib/python3.6/dist-packages\n",
      "Requires: numpy, termcolor, google-pasta, gast, keras-applications, tensorflow-estimator, grpcio, wrapt, astor, keras-preprocessing, opt-einsum, wheel, scipy, six, absl-py, protobuf, tensorboard\n",
      "Required-by: tensorflow-federated, fancyimpute\n"
     ]
    }
   ],
   "source": [
    "!pip show tensorflow"
   ]
  },
  {
   "cell_type": "markdown",
   "metadata": {
    "colab_type": "text",
    "id": "Q8sVv9KSidON"
   },
   "source": [
    "## Verify Notebook is using GPU"
   ]
  },
  {
   "cell_type": "code",
   "execution_count": 2,
   "metadata": {
    "colab": {
     "base_uri": "https://localhost:8080/",
     "height": 34
    },
    "colab_type": "code",
    "id": "ZbMSVzLPictf",
    "outputId": "5f781ccb-b768-4da7-ff88-86c83fb16d79"
   },
   "outputs": [
    {
     "ename": "NameError",
     "evalue": "name 'tf' is not defined",
     "output_type": "error",
     "traceback": [
      "\u001b[0;31m---------------------------------------------------------------------------\u001b[0m",
      "\u001b[0;31mNameError\u001b[0m                                 Traceback (most recent call last)",
      "\u001b[0;32m<ipython-input-2-a32920475ac0>\u001b[0m in \u001b[0;36m<module>\u001b[0;34m\u001b[0m\n\u001b[0;32m----> 1\u001b[0;31m \u001b[0mtf\u001b[0m\u001b[0;34m.\u001b[0m\u001b[0mtest\u001b[0m\u001b[0;34m.\u001b[0m\u001b[0mgpu_device_name\u001b[0m\u001b[0;34m(\u001b[0m\u001b[0;34m)\u001b[0m\u001b[0;34m\u001b[0m\u001b[0;34m\u001b[0m\u001b[0m\n\u001b[0m",
      "\u001b[0;31mNameError\u001b[0m: name 'tf' is not defined"
     ]
    }
   ],
   "source": [
    "tf.test.gpu_device_name()"
   ]
  },
  {
   "cell_type": "markdown",
   "metadata": {
    "colab_type": "text",
    "id": "EEKUE3MuuRl4"
   },
   "source": [
    "## Connect My Google Drive to Google Colab"
   ]
  },
  {
   "cell_type": "code",
   "execution_count": null,
   "metadata": {
    "colab": {
     "base_uri": "https://localhost:8080/",
     "height": 34
    },
    "colab_type": "code",
    "id": "ewPgII3vuQuT",
    "outputId": "9ead3d57-bfce-4397-d41b-b5a2c454e50c"
   },
   "outputs": [
    {
     "name": "stdout",
     "output_type": "stream",
     "text": [
      "Drive already mounted at /content/gdrive; to attempt to forcibly remount, call drive.mount(\"/content/gdrive\", force_remount=True).\n"
     ]
    }
   ],
   "source": [
    "drive.mount('/content/gdrive')"
   ]
  },
  {
   "cell_type": "markdown",
   "metadata": {
    "colab_type": "text",
    "id": "RyWtFWkRje_R"
   },
   "source": [
    "## Load CIFAR Dataset"
   ]
  },
  {
   "cell_type": "code",
   "execution_count": 5,
   "metadata": {
    "colab": {
     "base_uri": "https://localhost:8080/",
     "height": 85
    },
    "colab_type": "code",
    "id": "eWLmwuIffsVV",
    "outputId": "bd0a3401-3b1a-43e8-97c1-790b6f198496"
   },
   "outputs": [
    {
     "ename": "NameError",
     "evalue": "name 'cifar10' is not defined",
     "output_type": "error",
     "traceback": [
      "\u001b[0;31m---------------------------------------------------------------------------\u001b[0m",
      "\u001b[0;31mNameError\u001b[0m                                 Traceback (most recent call last)",
      "\u001b[0;32m<ipython-input-5-4676c82266d1>\u001b[0m in \u001b[0;36m<module>\u001b[0;34m\u001b[0m\n\u001b[0;32m----> 1\u001b[0;31m \u001b[0;34m(\u001b[0m\u001b[0mx_train\u001b[0m\u001b[0;34m,\u001b[0m \u001b[0my_train\u001b[0m\u001b[0;34m)\u001b[0m\u001b[0;34m,\u001b[0m \u001b[0;34m(\u001b[0m\u001b[0mx_test\u001b[0m\u001b[0;34m,\u001b[0m \u001b[0my_test\u001b[0m\u001b[0;34m)\u001b[0m \u001b[0;34m=\u001b[0m \u001b[0mcifar10\u001b[0m\u001b[0;34m.\u001b[0m\u001b[0mload_data\u001b[0m\u001b[0;34m(\u001b[0m\u001b[0;34m)\u001b[0m\u001b[0;34m\u001b[0m\u001b[0;34m\u001b[0m\u001b[0m\n\u001b[0m\u001b[1;32m      2\u001b[0m \u001b[0mprint\u001b[0m\u001b[0;34m(\u001b[0m\u001b[0mx_train\u001b[0m\u001b[0;34m.\u001b[0m\u001b[0mshape\u001b[0m\u001b[0;34m)\u001b[0m\u001b[0;34m\u001b[0m\u001b[0;34m\u001b[0m\u001b[0m\n\u001b[1;32m      3\u001b[0m \u001b[0mprint\u001b[0m\u001b[0;34m(\u001b[0m\u001b[0mx_test\u001b[0m\u001b[0;34m.\u001b[0m\u001b[0mshape\u001b[0m\u001b[0;34m)\u001b[0m\u001b[0;34m\u001b[0m\u001b[0;34m\u001b[0m\u001b[0m\n\u001b[1;32m      4\u001b[0m \u001b[0mprint\u001b[0m\u001b[0;34m(\u001b[0m\u001b[0my_train\u001b[0m\u001b[0;34m.\u001b[0m\u001b[0mshape\u001b[0m\u001b[0;34m)\u001b[0m\u001b[0;34m\u001b[0m\u001b[0;34m\u001b[0m\u001b[0m\n\u001b[1;32m      5\u001b[0m \u001b[0mprint\u001b[0m\u001b[0;34m(\u001b[0m\u001b[0my_test\u001b[0m\u001b[0;34m.\u001b[0m\u001b[0mshape\u001b[0m\u001b[0;34m)\u001b[0m\u001b[0;34m\u001b[0m\u001b[0;34m\u001b[0m\u001b[0m\n",
      "\u001b[0;31mNameError\u001b[0m: name 'cifar10' is not defined"
     ]
    }
   ],
   "source": [
    "(x_train, y_train), (x_test, y_test) = cifar10.load_data()\n",
    "print(x_train.shape)\n",
    "print(x_test.shape)\n",
    "print(y_train.shape)\n",
    "print(y_test.shape)"
   ]
  },
  {
   "cell_type": "code",
   "execution_count": null,
   "metadata": {
    "colab": {
     "base_uri": "https://localhost:8080/",
     "height": 85
    },
    "colab_type": "code",
    "id": "vRiOPvz6xJwL",
    "outputId": "a78b6ece-6d06-499b-eb40-26752f5c84a7"
   },
   "outputs": [
    {
     "name": "stdout",
     "output_type": "stream",
     "text": [
      "uint8\n",
      "uint8\n",
      "uint8\n",
      "int64\n"
     ]
    }
   ],
   "source": [
    "print(x_train.dtype)\n",
    "print(x_test.dtype)\n",
    "print(y_train.dtype)\n",
    "print(y_test.dtype)"
   ]
  },
  {
   "cell_type": "code",
   "execution_count": null,
   "metadata": {
    "colab": {
     "base_uri": "https://localhost:8080/",
     "height": 283
    },
    "colab_type": "code",
    "id": "KgXAon3wJY78",
    "outputId": "3406f008-e28d-491c-8a64-2fe2cf5164ee"
   },
   "outputs": [
    {
     "data": {
      "text/plain": [
       "<matplotlib.image.AxesImage at 0x7fd69ac67400>"
      ]
     },
     "execution_count": 7,
     "metadata": {
      "tags": []
     },
     "output_type": "execute_result"
    },
    {
     "data": {
      "image/png": "[encoded data removed]",
      "text/plain": [
       "<Figure size 432x288 with 1 Axes>"
      ]
     },
     "metadata": {
      "tags": []
     },
     "output_type": "display_data"
    }
   ],
   "source": [
    "plt.imshow(x_test[2802])"
   ]
  },
  {
   "cell_type": "code",
   "execution_count": null,
   "metadata": {
    "colab": {
     "base_uri": "https://localhost:8080/",
     "height": 1000
    },
    "colab_type": "code",
    "id": "X-tkqXkIkrlj",
    "outputId": "775a9d71-f463-45bf-b664-772773d76b96"
   },
   "outputs": [
    {
     "data": {
      "text/plain": [
       "array([[[[ 59,  62,  63],\n",
       "         [ 43,  46,  45],\n",
       "         [ 50,  48,  43],\n",
       "         ...,\n",
       "         [158, 132, 108],\n",
       "         [152, 125, 102],\n",
       "         [148, 124, 103]],\n",
       "\n",
       "        [[ 16,  20,  20],\n",
       "         [  0,   0,   0],\n",
       "         [ 18,   8,   0],\n",
       "         ...,\n",
       "         [123,  88,  55],\n",
       "         [119,  83,  50],\n",
       "         [122,  87,  57]],\n",
       "\n",
       "        [[ 25,  24,  21],\n",
       "         [ 16,   7,   0],\n",
       "         [ 49,  27,   8],\n",
       "         ...,\n",
       "         [118,  84,  50],\n",
       "         [120,  84,  50],\n",
       "         [109,  73,  42]],\n",
       "\n",
       "        ...,\n",
       "\n",
       "        [[208, 170,  96],\n",
       "         [201, 153,  34],\n",
       "         [198, 161,  26],\n",
       "         ...,\n",
       "         [160, 133,  70],\n",
       "         [ 56,  31,   7],\n",
       "         [ 53,  34,  20]],\n",
       "\n",
       "        [[180, 139,  96],\n",
       "         [173, 123,  42],\n",
       "         [186, 144,  30],\n",
       "         ...,\n",
       "         [184, 148,  94],\n",
       "         [ 97,  62,  34],\n",
       "         [ 83,  53,  34]],\n",
       "\n",
       "        [[177, 144, 116],\n",
       "         [168, 129,  94],\n",
       "         [179, 142,  87],\n",
       "         ...,\n",
       "         [216, 184, 140],\n",
       "         [151, 118,  84],\n",
       "         [123,  92,  72]]],\n",
       "\n",
       "\n",
       "       [[[154, 177, 187],\n",
       "         [126, 137, 136],\n",
       "         [105, 104,  95],\n",
       "         ...,\n",
       "         [ 91,  95,  71],\n",
       "         [ 87,  90,  71],\n",
       "         [ 79,  81,  70]],\n",
       "\n",
       "        [[140, 160, 169],\n",
       "         [145, 153, 154],\n",
       "         [125, 125, 118],\n",
       "         ...,\n",
       "         [ 96,  99,  78],\n",
       "         [ 77,  80,  62],\n",
       "         [ 71,  73,  61]],\n",
       "\n",
       "        [[140, 155, 164],\n",
       "         [139, 146, 149],\n",
       "         [115, 115, 112],\n",
       "         ...,\n",
       "         [ 79,  82,  64],\n",
       "         [ 68,  70,  55],\n",
       "         [ 67,  69,  55]],\n",
       "\n",
       "        ...,\n",
       "\n",
       "        [[175, 167, 166],\n",
       "         [156, 154, 160],\n",
       "         [154, 160, 170],\n",
       "         ...,\n",
       "         [ 42,  34,  36],\n",
       "         [ 61,  53,  57],\n",
       "         [ 93,  83,  91]],\n",
       "\n",
       "        [[165, 154, 128],\n",
       "         [156, 152, 130],\n",
       "         [159, 161, 142],\n",
       "         ...,\n",
       "         [103,  93,  96],\n",
       "         [123, 114, 120],\n",
       "         [131, 121, 131]],\n",
       "\n",
       "        [[163, 148, 120],\n",
       "         [158, 148, 122],\n",
       "         [163, 156, 133],\n",
       "         ...,\n",
       "         [143, 133, 139],\n",
       "         [143, 134, 142],\n",
       "         [143, 133, 144]]],\n",
       "\n",
       "\n",
       "       [[[255, 255, 255],\n",
       "         [253, 253, 253],\n",
       "         [253, 253, 253],\n",
       "         ...,\n",
       "         [253, 253, 253],\n",
       "         [253, 253, 253],\n",
       "         [253, 253, 253]],\n",
       "\n",
       "        [[255, 255, 255],\n",
       "         [255, 255, 255],\n",
       "         [255, 255, 255],\n",
       "         ...,\n",
       "         [255, 255, 255],\n",
       "         [255, 255, 255],\n",
       "         [255, 255, 255]],\n",
       "\n",
       "        [[255, 255, 255],\n",
       "         [254, 254, 254],\n",
       "         [254, 254, 254],\n",
       "         ...,\n",
       "         [254, 254, 254],\n",
       "         [254, 254, 254],\n",
       "         [254, 254, 254]],\n",
       "\n",
       "        ...,\n",
       "\n",
       "        [[113, 120, 112],\n",
       "         [111, 118, 111],\n",
       "         [105, 112, 106],\n",
       "         ...,\n",
       "         [ 72,  81,  80],\n",
       "         [ 72,  80,  79],\n",
       "         [ 72,  80,  79]],\n",
       "\n",
       "        [[111, 118, 110],\n",
       "         [104, 111, 104],\n",
       "         [ 99, 106,  98],\n",
       "         ...,\n",
       "         [ 68,  75,  73],\n",
       "         [ 70,  76,  75],\n",
       "         [ 78,  84,  82]],\n",
       "\n",
       "        [[106, 113, 105],\n",
       "         [ 99, 106,  98],\n",
       "         [ 95, 102,  94],\n",
       "         ...,\n",
       "         [ 78,  85,  83],\n",
       "         [ 79,  85,  83],\n",
       "         [ 80,  86,  84]]],\n",
       "\n",
       "\n",
       "       ...,\n",
       "\n",
       "\n",
       "       [[[ 35, 178, 235],\n",
       "         [ 40, 176, 239],\n",
       "         [ 42, 176, 241],\n",
       "         ...,\n",
       "         [ 99, 177, 219],\n",
       "         [ 79, 147, 197],\n",
       "         [ 89, 148, 189]],\n",
       "\n",
       "        [[ 57, 182, 234],\n",
       "         [ 44, 184, 250],\n",
       "         [ 50, 183, 240],\n",
       "         ...,\n",
       "         [156, 182, 200],\n",
       "         [141, 177, 206],\n",
       "         [116, 149, 175]],\n",
       "\n",
       "        [[ 98, 197, 237],\n",
       "         [ 64, 189, 252],\n",
       "         [ 69, 192, 245],\n",
       "         ...,\n",
       "         [188, 195, 206],\n",
       "         [119, 135, 147],\n",
       "         [ 61,  79,  90]],\n",
       "\n",
       "        ...,\n",
       "\n",
       "        [[ 73,  79,  77],\n",
       "         [ 53,  63,  68],\n",
       "         [ 54,  68,  80],\n",
       "         ...,\n",
       "         [ 17,  40,  64],\n",
       "         [ 21,  36,  51],\n",
       "         [ 33,  48,  49]],\n",
       "\n",
       "        [[ 61,  68,  75],\n",
       "         [ 55,  70,  86],\n",
       "         [ 57,  79, 103],\n",
       "         ...,\n",
       "         [ 24,  48,  72],\n",
       "         [ 17,  35,  53],\n",
       "         [  7,  23,  32]],\n",
       "\n",
       "        [[ 44,  56,  73],\n",
       "         [ 46,  66,  88],\n",
       "         [ 49,  77, 105],\n",
       "         ...,\n",
       "         [ 27,  52,  77],\n",
       "         [ 21,  43,  66],\n",
       "         [ 12,  31,  50]]],\n",
       "\n",
       "\n",
       "       [[[189, 211, 240],\n",
       "         [186, 208, 236],\n",
       "         [185, 207, 235],\n",
       "         ...,\n",
       "         [175, 195, 224],\n",
       "         [172, 194, 222],\n",
       "         [169, 194, 220]],\n",
       "\n",
       "        [[194, 210, 239],\n",
       "         [191, 207, 236],\n",
       "         [190, 206, 235],\n",
       "         ...,\n",
       "         [173, 192, 220],\n",
       "         [171, 191, 218],\n",
       "         [167, 190, 216]],\n",
       "\n",
       "        [[208, 219, 244],\n",
       "         [205, 216, 240],\n",
       "         [204, 215, 239],\n",
       "         ...,\n",
       "         [175, 191, 217],\n",
       "         [172, 190, 216],\n",
       "         [169, 191, 215]],\n",
       "\n",
       "        ...,\n",
       "\n",
       "        [[207, 199, 181],\n",
       "         [203, 195, 175],\n",
       "         [203, 196, 173],\n",
       "         ...,\n",
       "         [135, 132, 127],\n",
       "         [162, 158, 150],\n",
       "         [168, 163, 151]],\n",
       "\n",
       "        [[198, 190, 170],\n",
       "         [189, 181, 159],\n",
       "         [180, 172, 147],\n",
       "         ...,\n",
       "         [178, 171, 160],\n",
       "         [175, 169, 156],\n",
       "         [175, 169, 154]],\n",
       "\n",
       "        [[198, 189, 173],\n",
       "         [189, 181, 162],\n",
       "         [178, 170, 149],\n",
       "         ...,\n",
       "         [195, 184, 169],\n",
       "         [196, 189, 171],\n",
       "         [195, 190, 171]]],\n",
       "\n",
       "\n",
       "       [[[229, 229, 239],\n",
       "         [236, 237, 247],\n",
       "         [234, 236, 247],\n",
       "         ...,\n",
       "         [217, 219, 233],\n",
       "         [221, 223, 234],\n",
       "         [222, 223, 233]],\n",
       "\n",
       "        [[222, 221, 229],\n",
       "         [239, 239, 249],\n",
       "         [233, 234, 246],\n",
       "         ...,\n",
       "         [223, 223, 236],\n",
       "         [227, 228, 238],\n",
       "         [210, 211, 220]],\n",
       "\n",
       "        [[213, 206, 211],\n",
       "         [234, 232, 239],\n",
       "         [231, 233, 244],\n",
       "         ...,\n",
       "         [220, 220, 232],\n",
       "         [220, 219, 232],\n",
       "         [202, 203, 215]],\n",
       "\n",
       "        ...,\n",
       "\n",
       "        [[150, 143, 135],\n",
       "         [140, 135, 127],\n",
       "         [132, 127, 120],\n",
       "         ...,\n",
       "         [224, 222, 218],\n",
       "         [230, 228, 225],\n",
       "         [241, 241, 238]],\n",
       "\n",
       "        [[137, 132, 126],\n",
       "         [130, 127, 120],\n",
       "         [125, 121, 115],\n",
       "         ...,\n",
       "         [181, 180, 178],\n",
       "         [202, 201, 198],\n",
       "         [212, 211, 207]],\n",
       "\n",
       "        [[122, 119, 114],\n",
       "         [118, 116, 110],\n",
       "         [120, 116, 111],\n",
       "         ...,\n",
       "         [179, 177, 173],\n",
       "         [164, 164, 162],\n",
       "         [163, 163, 161]]]], dtype=uint8)"
      ]
     },
     "execution_count": 8,
     "metadata": {
      "tags": []
     },
     "output_type": "execute_result"
    }
   ],
   "source": [
    "x_train"
   ]
  },
  {
   "cell_type": "code",
   "execution_count": null,
   "metadata": {
    "colab": {
     "base_uri": "https://localhost:8080/",
     "height": 136
    },
    "colab_type": "code",
    "id": "85l_BDxqjodA",
    "outputId": "3106c55e-3860-4f54-f0b6-95fdbdc7441a"
   },
   "outputs": [
    {
     "data": {
      "text/plain": [
       "array([[6],\n",
       "       [9],\n",
       "       [9],\n",
       "       ...,\n",
       "       [9],\n",
       "       [1],\n",
       "       [1]], dtype=uint8)"
      ]
     },
     "execution_count": 9,
     "metadata": {
      "tags": []
     },
     "output_type": "execute_result"
    }
   ],
   "source": [
    "y_train"
   ]
  },
  {
   "cell_type": "code",
   "execution_count": null,
   "metadata": {
    "colab": {
     "base_uri": "https://localhost:8080/",
     "height": 1000
    },
    "colab_type": "code",
    "id": "Gv5mJ0z5jrG3",
    "outputId": "d6ca637f-4059-4ed6-8786-ccc98676f036"
   },
   "outputs": [
    {
     "data": {
      "text/plain": [
       "array([[[[158, 112,  49],\n",
       "         [159, 111,  47],\n",
       "         [165, 116,  51],\n",
       "         ...,\n",
       "         [137,  95,  36],\n",
       "         [126,  91,  36],\n",
       "         [116,  85,  33]],\n",
       "\n",
       "        [[152, 112,  51],\n",
       "         [151, 110,  40],\n",
       "         [159, 114,  45],\n",
       "         ...,\n",
       "         [136,  95,  31],\n",
       "         [125,  91,  32],\n",
       "         [119,  88,  34]],\n",
       "\n",
       "        [[151, 110,  47],\n",
       "         [151, 109,  33],\n",
       "         [158, 111,  36],\n",
       "         ...,\n",
       "         [139,  98,  34],\n",
       "         [130,  95,  34],\n",
       "         [120,  89,  33]],\n",
       "\n",
       "        ...,\n",
       "\n",
       "        [[ 68, 124, 177],\n",
       "         [ 42, 100, 148],\n",
       "         [ 31,  88, 137],\n",
       "         ...,\n",
       "         [ 38,  97, 146],\n",
       "         [ 13,  64, 108],\n",
       "         [ 40,  85, 127]],\n",
       "\n",
       "        [[ 61, 116, 168],\n",
       "         [ 49, 102, 148],\n",
       "         [ 35,  85, 132],\n",
       "         ...,\n",
       "         [ 26,  82, 130],\n",
       "         [ 29,  82, 126],\n",
       "         [ 20,  64, 107]],\n",
       "\n",
       "        [[ 54, 107, 160],\n",
       "         [ 56, 105, 149],\n",
       "         [ 45,  89, 132],\n",
       "         ...,\n",
       "         [ 24,  77, 124],\n",
       "         [ 34,  84, 129],\n",
       "         [ 21,  67, 110]]],\n",
       "\n",
       "\n",
       "       [[[235, 235, 235],\n",
       "         [231, 231, 231],\n",
       "         [232, 232, 232],\n",
       "         ...,\n",
       "         [233, 233, 233],\n",
       "         [233, 233, 233],\n",
       "         [232, 232, 232]],\n",
       "\n",
       "        [[238, 238, 238],\n",
       "         [235, 235, 235],\n",
       "         [235, 235, 235],\n",
       "         ...,\n",
       "         [236, 236, 236],\n",
       "         [236, 236, 236],\n",
       "         [235, 235, 235]],\n",
       "\n",
       "        [[237, 237, 237],\n",
       "         [234, 234, 234],\n",
       "         [234, 234, 234],\n",
       "         ...,\n",
       "         [235, 235, 235],\n",
       "         [235, 235, 235],\n",
       "         [234, 234, 234]],\n",
       "\n",
       "        ...,\n",
       "\n",
       "        [[ 87,  99,  89],\n",
       "         [ 43,  51,  37],\n",
       "         [ 19,  23,  11],\n",
       "         ...,\n",
       "         [169, 184, 179],\n",
       "         [182, 197, 193],\n",
       "         [188, 202, 201]],\n",
       "\n",
       "        [[ 82,  96,  82],\n",
       "         [ 46,  57,  36],\n",
       "         [ 36,  44,  22],\n",
       "         ...,\n",
       "         [174, 189, 183],\n",
       "         [185, 200, 196],\n",
       "         [187, 202, 200]],\n",
       "\n",
       "        [[ 85, 101,  83],\n",
       "         [ 62,  75,  48],\n",
       "         [ 58,  67,  38],\n",
       "         ...,\n",
       "         [168, 183, 178],\n",
       "         [180, 195, 191],\n",
       "         [186, 200, 199]]],\n",
       "\n",
       "\n",
       "       [[[158, 190, 222],\n",
       "         [158, 187, 218],\n",
       "         [139, 166, 194],\n",
       "         ...,\n",
       "         [228, 231, 234],\n",
       "         [237, 239, 243],\n",
       "         [238, 241, 246]],\n",
       "\n",
       "        [[170, 200, 229],\n",
       "         [172, 199, 226],\n",
       "         [151, 176, 201],\n",
       "         ...,\n",
       "         [232, 232, 236],\n",
       "         [246, 246, 250],\n",
       "         [246, 247, 251]],\n",
       "\n",
       "        [[174, 201, 225],\n",
       "         [176, 200, 222],\n",
       "         [157, 179, 199],\n",
       "         ...,\n",
       "         [230, 229, 232],\n",
       "         [250, 249, 251],\n",
       "         [245, 244, 247]],\n",
       "\n",
       "        ...,\n",
       "\n",
       "        [[ 31,  40,  45],\n",
       "         [ 30,  39,  44],\n",
       "         [ 26,  35,  40],\n",
       "         ...,\n",
       "         [ 37,  40,  46],\n",
       "         [  9,  13,  14],\n",
       "         [  4,   7,   5]],\n",
       "\n",
       "        [[ 23,  34,  39],\n",
       "         [ 27,  38,  43],\n",
       "         [ 25,  36,  41],\n",
       "         ...,\n",
       "         [ 19,  20,  24],\n",
       "         [  4,   6,   3],\n",
       "         [  5,   7,   3]],\n",
       "\n",
       "        [[ 28,  41,  47],\n",
       "         [ 30,  43,  50],\n",
       "         [ 32,  45,  52],\n",
       "         ...,\n",
       "         [  5,   6,   8],\n",
       "         [  4,   5,   3],\n",
       "         [  7,   8,   7]]],\n",
       "\n",
       "\n",
       "       ...,\n",
       "\n",
       "\n",
       "       [[[ 20,  15,  12],\n",
       "         [ 19,  14,  11],\n",
       "         [ 15,  14,  11],\n",
       "         ...,\n",
       "         [ 10,   9,   7],\n",
       "         [ 12,  11,   9],\n",
       "         [ 13,  12,  10]],\n",
       "\n",
       "        [[ 21,  16,  13],\n",
       "         [ 20,  16,  13],\n",
       "         [ 18,  17,  12],\n",
       "         ...,\n",
       "         [ 10,   9,   7],\n",
       "         [ 10,   9,   7],\n",
       "         [ 12,  11,   9]],\n",
       "\n",
       "        [[ 21,  16,  13],\n",
       "         [ 21,  17,  12],\n",
       "         [ 20,  18,  11],\n",
       "         ...,\n",
       "         [ 12,  11,   9],\n",
       "         [ 12,  11,   9],\n",
       "         [ 13,  12,  10]],\n",
       "\n",
       "        ...,\n",
       "\n",
       "        [[ 33,  25,  13],\n",
       "         [ 34,  26,  15],\n",
       "         [ 34,  26,  15],\n",
       "         ...,\n",
       "         [ 28,  25,  52],\n",
       "         [ 29,  25,  58],\n",
       "         [ 23,  20,  42]],\n",
       "\n",
       "        [[ 33,  25,  14],\n",
       "         [ 34,  26,  15],\n",
       "         [ 34,  26,  15],\n",
       "         ...,\n",
       "         [ 27,  24,  52],\n",
       "         [ 27,  24,  56],\n",
       "         [ 25,  22,  47]],\n",
       "\n",
       "        [[ 31,  23,  12],\n",
       "         [ 32,  24,  13],\n",
       "         [ 33,  25,  14],\n",
       "         ...,\n",
       "         [ 24,  23,  50],\n",
       "         [ 26,  23,  53],\n",
       "         [ 25,  20,  47]]],\n",
       "\n",
       "\n",
       "       [[[ 25,  40,  12],\n",
       "         [ 15,  36,   3],\n",
       "         [ 23,  41,  18],\n",
       "         ...,\n",
       "         [ 61,  82,  78],\n",
       "         [ 92, 113, 112],\n",
       "         [ 75,  89,  92]],\n",
       "\n",
       "        [[ 12,  25,   6],\n",
       "         [ 20,  37,   7],\n",
       "         [ 24,  36,  15],\n",
       "         ...,\n",
       "         [115, 134, 138],\n",
       "         [149, 168, 177],\n",
       "         [104, 117, 131]],\n",
       "\n",
       "        [[ 12,  25,  11],\n",
       "         [ 15,  29,   6],\n",
       "         [ 34,  40,  24],\n",
       "         ...,\n",
       "         [154, 172, 182],\n",
       "         [157, 175, 192],\n",
       "         [116, 129, 151]],\n",
       "\n",
       "        ...,\n",
       "\n",
       "        [[100, 129,  81],\n",
       "         [103, 132,  84],\n",
       "         [104, 134,  86],\n",
       "         ...,\n",
       "         [ 97, 128,  84],\n",
       "         [ 98, 126,  84],\n",
       "         [ 91, 121,  79]],\n",
       "\n",
       "        [[103, 132,  83],\n",
       "         [104, 131,  83],\n",
       "         [107, 135,  87],\n",
       "         ...,\n",
       "         [101, 132,  87],\n",
       "         [ 99, 127,  84],\n",
       "         [ 92, 121,  79]],\n",
       "\n",
       "        [[ 95, 126,  78],\n",
       "         [ 95, 123,  76],\n",
       "         [101, 128,  81],\n",
       "         ...,\n",
       "         [ 93, 124,  80],\n",
       "         [ 95, 123,  81],\n",
       "         [ 92, 120,  80]]],\n",
       "\n",
       "\n",
       "       [[[ 73,  78,  75],\n",
       "         [ 98, 103, 113],\n",
       "         [ 99, 106, 114],\n",
       "         ...,\n",
       "         [135, 150, 152],\n",
       "         [135, 149, 154],\n",
       "         [203, 215, 223]],\n",
       "\n",
       "        [[ 69,  73,  70],\n",
       "         [ 84,  89,  97],\n",
       "         [ 68,  75,  81],\n",
       "         ...,\n",
       "         [ 85,  95,  89],\n",
       "         [ 71,  82,  80],\n",
       "         [120, 133, 135]],\n",
       "\n",
       "        [[ 69,  73,  70],\n",
       "         [ 90,  95, 100],\n",
       "         [ 62,  71,  74],\n",
       "         ...,\n",
       "         [ 74,  81,  70],\n",
       "         [ 53,  62,  54],\n",
       "         [ 62,  74,  69]],\n",
       "\n",
       "        ...,\n",
       "\n",
       "        [[123, 128,  96],\n",
       "         [132, 132, 102],\n",
       "         [129, 128, 100],\n",
       "         ...,\n",
       "         [108, 107,  88],\n",
       "         [ 62,  60,  55],\n",
       "         [ 27,  27,  28]],\n",
       "\n",
       "        [[115, 121,  91],\n",
       "         [123, 124,  95],\n",
       "         [129, 126,  99],\n",
       "         ...,\n",
       "         [115, 116,  94],\n",
       "         [ 66,  65,  59],\n",
       "         [ 27,  27,  27]],\n",
       "\n",
       "        [[116, 120,  90],\n",
       "         [121, 122,  94],\n",
       "         [129, 128, 101],\n",
       "         ...,\n",
       "         [116, 115,  94],\n",
       "         [ 68,  65,  58],\n",
       "         [ 27,  26,  26]]]], dtype=uint8)"
      ]
     },
     "execution_count": 10,
     "metadata": {
      "tags": []
     },
     "output_type": "execute_result"
    }
   ],
   "source": [
    "x_test"
   ]
  },
  {
   "cell_type": "code",
   "execution_count": null,
   "metadata": {
    "colab": {
     "base_uri": "https://localhost:8080/",
     "height": 136
    },
    "colab_type": "code",
    "id": "UdUJoD2KjsFn",
    "outputId": "f6224484-e851-4f1b-dd16-9eeff6fd7c1d"
   },
   "outputs": [
    {
     "data": {
      "text/plain": [
       "array([[3],\n",
       "       [8],\n",
       "       [8],\n",
       "       ...,\n",
       "       [5],\n",
       "       [1],\n",
       "       [7]])"
      ]
     },
     "execution_count": 11,
     "metadata": {
      "tags": []
     },
     "output_type": "execute_result"
    }
   ],
   "source": [
    "y_test"
   ]
  },
  {
   "cell_type": "markdown",
   "metadata": {
    "colab_type": "text",
    "id": "FJ5h8oNgz-hu"
   },
   "source": [
    "## Datapreprocessing"
   ]
  },
  {
   "cell_type": "markdown",
   "metadata": {
    "colab_type": "text",
    "id": "Nrfy8PVnzZwb"
   },
   "source": [
    "##### Upsampling the input images to 64 by 64 pixels"
   ]
  },
  {
   "cell_type": "code",
   "execution_count": null,
   "metadata": {
    "colab": {
     "base_uri": "https://localhost:8080/",
     "height": 68
    },
    "colab_type": "code",
    "id": "1WNeOG1izaEY",
    "outputId": "0107e735-998a-416e-b5f2-f3444fa8ddb7"
   },
   "outputs": [
    {
     "name": "stdout",
     "output_type": "stream",
     "text": [
      "(50000, 64, 64, 3)\n",
      "(10000, 64, 64, 3)\n"
     ]
    },
    {
     "data": {
      "text/plain": [
       "tensorflow.python.framework.ops.EagerTensor"
      ]
     },
     "execution_count": 12,
     "metadata": {
      "tags": []
     },
     "output_type": "execute_result"
    }
   ],
   "source": [
    "x_train = tf.image.resize(x_train, (64, 64))\n",
    "x_test = tf.image.resize(x_test, (64, 64))\n",
    "print(x_train.shape)\n",
    "print(x_test.shape)\n",
    "type(x_train)\n",
    "type(x_test)"
   ]
  },
  {
   "cell_type": "code",
   "execution_count": null,
   "metadata": {
    "colab": {
     "base_uri": "https://localhost:8080/",
     "height": 51
    },
    "colab_type": "code",
    "id": "xp1jMVnT1dSX",
    "outputId": "f8aaca4b-a0e7-4034-d414-cf836d43a966"
   },
   "outputs": [
    {
     "name": "stdout",
     "output_type": "stream",
     "text": [
      "<class 'numpy.ndarray'>\n",
      "<class 'numpy.ndarray'>\n"
     ]
    }
   ],
   "source": [
    "x_train = x_train.numpy()\n",
    "x_test = x_test.numpy()\n",
    "print(type(x_train))\n",
    "print(type(x_test))"
   ]
  },
  {
   "cell_type": "markdown",
   "metadata": {
    "colab_type": "text",
    "id": "oFCg1BPKxt7T"
   },
   "source": [
    "##### Convert to float32 for normalization"
   ]
  },
  {
   "cell_type": "code",
   "execution_count": null,
   "metadata": {
    "colab": {},
    "colab_type": "code",
    "id": "t9PNuSTexl4S"
   },
   "outputs": [],
   "source": [
    "x_train = x_train.astype('float32')\n",
    "x_test = x_test.astype('float32')"
   ]
  },
  {
   "cell_type": "markdown",
   "metadata": {
    "colab_type": "text",
    "id": "33F3KF9vxu0N"
   },
   "source": [
    "##### Normalize the data values to the range [0, 1]"
   ]
  },
  {
   "cell_type": "code",
   "execution_count": null,
   "metadata": {
    "colab": {
     "base_uri": "https://localhost:8080/",
     "height": 1000
    },
    "colab_type": "code",
    "id": "JyDyqijjxmws",
    "outputId": "219428fd-61dd-4063-b42e-c6bfb5d9a781"
   },
   "outputs": [
    {
     "data": {
      "text/plain": [
       "array([[[[0.23137255, 0.24313726, 0.24705882],\n",
       "         [0.21568628, 0.22745098, 0.22941177],\n",
       "         [0.18431373, 0.19607843, 0.19411765],\n",
       "         ...,\n",
       "         [0.5921569 , 0.48921567, 0.40098038],\n",
       "         [0.58431375, 0.4872549 , 0.40294117],\n",
       "         [0.5803922 , 0.4862745 , 0.40392157]],\n",
       "\n",
       "        [[0.18921569, 0.20196079, 0.20490196],\n",
       "         [0.17352942, 0.18529412, 0.1867647 ],\n",
       "         [0.14215687, 0.15196079, 0.1504902 ],\n",
       "         ...,\n",
       "         [0.5615196 , 0.4492647 , 0.3514706 ],\n",
       "         [0.55710787, 0.4497549 , 0.35637254],\n",
       "         [0.55490196, 0.45      , 0.35882354]],\n",
       "\n",
       "        [[0.10490196, 0.11960784, 0.12058824],\n",
       "         [0.08921569, 0.10098039, 0.10147059],\n",
       "         [0.05784314, 0.06372549, 0.0632353 ],\n",
       "         ...,\n",
       "         [0.5002451 , 0.36936274, 0.25245097],\n",
       "         [0.5026961 , 0.3747549 , 0.2632353 ],\n",
       "         [0.50392157, 0.37745097, 0.26862746]],\n",
       "\n",
       "        ...,\n",
       "\n",
       "        [[0.7029412 , 0.55      , 0.39607844],\n",
       "         [0.69558823, 0.53455883, 0.3509804 ],\n",
       "         [0.68088233, 0.5036765 , 0.26078433],\n",
       "         ...,\n",
       "         [0.41617647, 0.28504902, 0.17941177],\n",
       "         [0.38186276, 0.25906864, 0.17352942],\n",
       "         [0.3647059 , 0.24607843, 0.17058824]],\n",
       "\n",
       "        [[0.6970588 , 0.5598039 , 0.43529412],\n",
       "         [0.6887255 , 0.5448529 , 0.40588236],\n",
       "         [0.6720588 , 0.514951  , 0.34705883],\n",
       "         ...,\n",
       "         [0.5151961 , 0.3865196 , 0.27156863],\n",
       "         [0.46715686, 0.34387255, 0.25392157],\n",
       "         [0.44313726, 0.32254902, 0.24509804]],\n",
       "\n",
       "        [[0.69411767, 0.5647059 , 0.45490196],\n",
       "         [0.6852941 , 0.55      , 0.43333334],\n",
       "         [0.66764706, 0.5205882 , 0.39019608],\n",
       "         ...,\n",
       "         [0.5647059 , 0.4372549 , 0.31764707],\n",
       "         [0.50980395, 0.38627452, 0.29411766],\n",
       "         [0.48235294, 0.36078432, 0.28235295]]],\n",
       "\n",
       "\n",
       "       [[[0.6039216 , 0.69411767, 0.73333335],\n",
       "         [0.5764706 , 0.654902  , 0.68333334],\n",
       "         [0.52156866, 0.5764706 , 0.5833333 ],\n",
       "         ...,\n",
       "         [0.33333334, 0.34411764, 0.27745098],\n",
       "         [0.31764707, 0.32647058, 0.2754902 ],\n",
       "         [0.30980393, 0.31764707, 0.27450982]],\n",
       "\n",
       "        [[0.5901961 , 0.67745095, 0.71568626],\n",
       "         [0.5708333 , 0.6463235 , 0.6745098 ],\n",
       "         [0.53210783, 0.58406866, 0.5921569 ],\n",
       "         ...,\n",
       "         [0.3240196 , 0.3348039 , 0.26862746],\n",
       "         [0.3093137 , 0.31813726, 0.26666668],\n",
       "         [0.3019608 , 0.30980393, 0.26568627]],\n",
       "\n",
       "        [[0.5627451 , 0.64411765, 0.68039215],\n",
       "         [0.5595588 , 0.62916666, 0.65686274],\n",
       "         [0.5531863 , 0.5992647 , 0.6098039 ],\n",
       "         ...,\n",
       "         [0.30539215, 0.31617647, 0.2509804 ],\n",
       "         [0.29264706, 0.30147058, 0.24901961],\n",
       "         [0.28627452, 0.29411766, 0.24803922]],\n",
       "\n",
       "        ...,\n",
       "\n",
       "        [[0.64509803, 0.5980392 , 0.49411765],\n",
       "         [0.6372549 , 0.59656864, 0.49607843],\n",
       "         [0.6215686 , 0.59362745, 0.5       ],\n",
       "         ...,\n",
       "         [0.50784314, 0.4715686 , 0.5007353 ],\n",
       "         [0.51960784, 0.48137254, 0.5178922 ],\n",
       "         [0.5254902 , 0.4862745 , 0.5264706 ]],\n",
       "\n",
       "        [[0.64117646, 0.5862745 , 0.47843137],\n",
       "         [0.63529414, 0.5857843 , 0.48039216],\n",
       "         [0.62352943, 0.58480394, 0.48431373],\n",
       "         ...,\n",
       "         [0.54313725, 0.50686276, 0.5394608 ],\n",
       "         [0.5470588 , 0.5088235 , 0.5477941 ],\n",
       "         [0.54901963, 0.50980395, 0.55196077]],\n",
       "\n",
       "        [[0.6392157 , 0.5803922 , 0.47058824],\n",
       "         [0.6343137 , 0.5803922 , 0.47254902],\n",
       "         [0.6245098 , 0.5803922 , 0.4764706 ],\n",
       "         ...,\n",
       "         [0.56078434, 0.5245098 , 0.5588235 ],\n",
       "         [0.56078434, 0.52254903, 0.5627451 ],\n",
       "         [0.56078434, 0.52156866, 0.5647059 ]]],\n",
       "\n",
       "\n",
       "       [[[1.        , 1.        , 1.        ],\n",
       "         [0.9980392 , 0.9980392 , 0.9980392 ],\n",
       "         [0.9941176 , 0.9941176 , 0.9941176 ],\n",
       "         ...,\n",
       "         [0.99215686, 0.99215686, 0.99215686],\n",
       "         [0.99215686, 0.99215686, 0.99215686],\n",
       "         [0.99215686, 0.99215686, 0.99215686]],\n",
       "\n",
       "        [[1.        , 1.        , 1.        ],\n",
       "         [0.99852943, 0.99852943, 0.99852943],\n",
       "         [0.99558824, 0.99558824, 0.99558824],\n",
       "         ...,\n",
       "         [0.9941176 , 0.9941176 , 0.9941176 ],\n",
       "         [0.9941176 , 0.9941176 , 0.9941176 ],\n",
       "         [0.9941176 , 0.9941176 , 0.9941176 ]],\n",
       "\n",
       "        [[1.        , 1.        , 1.        ],\n",
       "         [0.9995098 , 0.9995098 , 0.9995098 ],\n",
       "         [0.99852943, 0.99852943, 0.99852943],\n",
       "         ...,\n",
       "         [0.9980392 , 0.9980392 , 0.9980392 ],\n",
       "         [0.9980392 , 0.9980392 , 0.9980392 ],\n",
       "         [0.9980392 , 0.9980392 , 0.9980392 ]],\n",
       "\n",
       "        ...,\n",
       "\n",
       "        [[0.43039215, 0.45784312, 0.42647058],\n",
       "         [0.42352942, 0.4509804 , 0.42034313],\n",
       "         [0.40980393, 0.4372549 , 0.40808824],\n",
       "         ...,\n",
       "         [0.28946078, 0.3129902 , 0.30735293],\n",
       "         [0.30171567, 0.3252451 , 0.31813726],\n",
       "         [0.30784315, 0.33137256, 0.32352942]],\n",
       "\n",
       "        [[0.42058823, 0.4480392 , 0.41666666],\n",
       "         [0.4137255 , 0.44117647, 0.41004902],\n",
       "         [0.4       , 0.42745098, 0.39681372],\n",
       "         ...,\n",
       "         [0.30367646, 0.3272059 , 0.32009804],\n",
       "         [0.30906862, 0.33259803, 0.325     ],\n",
       "         [0.31176472, 0.33529413, 0.327451  ]],\n",
       "\n",
       "        [[0.41568628, 0.44313726, 0.4117647 ],\n",
       "         [0.40882352, 0.4362745 , 0.40490195],\n",
       "         [0.39509803, 0.422549  , 0.39117646],\n",
       "         ...,\n",
       "         [0.3107843 , 0.33431372, 0.32647058],\n",
       "         [0.3127451 , 0.3362745 , 0.32843137],\n",
       "         [0.3137255 , 0.3372549 , 0.32941177]]],\n",
       "\n",
       "\n",
       "       ...,\n",
       "\n",
       "\n",
       "       [[[0.13725491, 0.69803923, 0.92156863],\n",
       "         [0.14215687, 0.6960784 , 0.9254902 ],\n",
       "         [0.15196079, 0.69215685, 0.93333334],\n",
       "         ...,\n",
       "         [0.31960785, 0.577451  , 0.7647059 ],\n",
       "         [0.3392157 , 0.57941175, 0.7490196 ],\n",
       "         [0.34901962, 0.5803922 , 0.7411765 ]],\n",
       "\n",
       "        [[0.15882353, 0.7019608 , 0.92058825],\n",
       "         [0.15931372, 0.70098037, 0.92745095],\n",
       "         [0.16029412, 0.6990196 , 0.9411765 ],\n",
       "         ...,\n",
       "         [0.3718137 , 0.5997549 , 0.7678922 ],\n",
       "         [0.37426472, 0.5875    , 0.7409314 ],\n",
       "         [0.3754902 , 0.58137256, 0.72745097]],\n",
       "\n",
       "        [[0.20196079, 0.70980394, 0.91862744],\n",
       "         [0.19362745, 0.7107843 , 0.9313725 ],\n",
       "         [0.17696078, 0.7127451 , 0.95686275],\n",
       "         ...,\n",
       "         [0.4762255 , 0.64436275, 0.7742647 ],\n",
       "         [0.44436276, 0.6036765 , 0.7247549 ],\n",
       "         [0.42843136, 0.5833333 , 0.7       ]],\n",
       "\n",
       "        ...,\n",
       "\n",
       "        [[0.22254902, 0.25490198, 0.29215688],\n",
       "         [0.21862745, 0.25882354, 0.30392158],\n",
       "         [0.21078432, 0.26666668, 0.327451  ],\n",
       "         ...,\n",
       "         [0.06102941, 0.13333334, 0.20122549],\n",
       "         [0.04191177, 0.10980392, 0.1625    ],\n",
       "         [0.03235294, 0.09803922, 0.14313726]],\n",
       "\n",
       "        [[0.18921569, 0.23137255, 0.2882353 ],\n",
       "         [0.18921569, 0.23921569, 0.3019608 ],\n",
       "         [0.18921569, 0.25490198, 0.32941177],\n",
       "         ...,\n",
       "         [0.06936274, 0.14901961, 0.22916667],\n",
       "         [0.05122549, 0.1254902 , 0.19534314],\n",
       "         [0.04215686, 0.11372549, 0.17843138]],\n",
       "\n",
       "        [[0.17254902, 0.21960784, 0.28627452],\n",
       "         [0.17450981, 0.22941177, 0.3009804 ],\n",
       "         [0.17843138, 0.24901961, 0.33039215],\n",
       "         ...,\n",
       "         [0.07352941, 0.15686275, 0.24313726],\n",
       "         [0.05588235, 0.13333334, 0.21176471],\n",
       "         [0.04705882, 0.12156863, 0.19607843]]],\n",
       "\n",
       "\n",
       "       [[[0.7411765 , 0.827451  , 0.9411765 ],\n",
       "         [0.7382353 , 0.8245098 , 0.9372549 ],\n",
       "         [0.7323529 , 0.8186275 , 0.92941177],\n",
       "         ...,\n",
       "         [0.67156863, 0.7607843 , 0.8686274 ],\n",
       "         [0.66568625, 0.7607843 , 0.86470586],\n",
       "         [0.6627451 , 0.7607843 , 0.8627451 ]],\n",
       "\n",
       "        [[0.74607843, 0.8264706 , 0.9401961 ],\n",
       "         [0.74313724, 0.8235294 , 0.9365196 ],\n",
       "         [0.7372549 , 0.81764704, 0.9291667 ],\n",
       "         ...,\n",
       "         [0.67034316, 0.75759804, 0.86470586],\n",
       "         [0.6639706 , 0.75710785, 0.8607843 ],\n",
       "         [0.6607843 , 0.75686276, 0.85882354]],\n",
       "\n",
       "        [[0.7558824 , 0.8245098 , 0.9382353 ],\n",
       "         [0.7529412 , 0.8215686 , 0.935049  ],\n",
       "         [0.7470588 , 0.8156863 , 0.9286765 ],\n",
       "         ...,\n",
       "         [0.66789216, 0.7512255 , 0.8568627 ],\n",
       "         [0.6605392 , 0.7497549 , 0.85294116],\n",
       "         [0.65686274, 0.7490196 , 0.8509804 ]],\n",
       "\n",
       "        ...,\n",
       "\n",
       "        [[0.7764706 , 0.7441176 , 0.6696078 ],\n",
       "         [0.7676471 , 0.7355392 , 0.65882355],\n",
       "         [0.75      , 0.71838236, 0.6372549 ],\n",
       "         ...,\n",
       "         [0.70661765, 0.68259805, 0.625     ],\n",
       "         [0.70612746, 0.68308824, 0.6220588 ],\n",
       "         [0.7058824 , 0.68333334, 0.62058824]],\n",
       "\n",
       "        [[0.7764706 , 0.74215686, 0.6754902 ],\n",
       "         [0.7676471 , 0.73406863, 0.6647059 ],\n",
       "         [0.75      , 0.71789217, 0.6431373 ],\n",
       "         ...,\n",
       "         [0.7473039 , 0.7223039 , 0.65539217],\n",
       "         [0.74583334, 0.7237745 , 0.6544118 ],\n",
       "         [0.74509805, 0.7245098 , 0.65392154]],\n",
       "\n",
       "        [[0.7764706 , 0.7411765 , 0.6784314 ],\n",
       "         [0.7676471 , 0.73333335, 0.66764706],\n",
       "         [0.75      , 0.7176471 , 0.6460784 ],\n",
       "         ...,\n",
       "         [0.7676471 , 0.74215686, 0.67058825],\n",
       "         [0.7656863 , 0.7441176 , 0.67058825],\n",
       "         [0.7647059 , 0.74509805, 0.67058825]]],\n",
       "\n",
       "\n",
       "       [[[0.8980392 , 0.8980392 , 0.9372549 ],\n",
       "         [0.904902  , 0.90588236, 0.94509804],\n",
       "         [0.91862744, 0.92156863, 0.9607843 ],\n",
       "         ...,\n",
       "         [0.86764705, 0.8745098 , 0.9166667 ],\n",
       "         [0.86960787, 0.8745098 , 0.9147059 ],\n",
       "         [0.87058824, 0.8745098 , 0.9137255 ]],\n",
       "\n",
       "        [[0.89117646, 0.8901961 , 0.92745095],\n",
       "         [0.9004902 , 0.9004902 , 0.9382353 ],\n",
       "         [0.9191176 , 0.92107844, 0.95980394],\n",
       "         ...,\n",
       "         [0.8691176 , 0.8752451 , 0.9164216 ],\n",
       "         [0.8622549 , 0.86691177, 0.90612745],\n",
       "         [0.85882354, 0.8627451 , 0.9009804 ]],\n",
       "\n",
       "        [[0.877451  , 0.8745098 , 0.9078431 ],\n",
       "         [0.89166665, 0.8897059 , 0.9245098 ],\n",
       "         [0.92009807, 0.92009807, 0.9578431 ],\n",
       "         ...,\n",
       "         [0.8720588 , 0.87671566, 0.91593134],\n",
       "         [0.847549  , 0.8517157 , 0.8889706 ],\n",
       "         [0.8352941 , 0.8392157 , 0.8754902 ]],\n",
       "\n",
       "        ...,\n",
       "\n",
       "        [[0.52254903, 0.50490195, 0.48235294],\n",
       "         [0.51642156, 0.5004902 , 0.47696078],\n",
       "         [0.50416666, 0.49166667, 0.46617648],\n",
       "         ...,\n",
       "         [0.7620098 , 0.7590686 , 0.747549  ],\n",
       "         [0.7762255 , 0.7732843 , 0.76029414],\n",
       "         [0.78333336, 0.78039217, 0.76666665]],\n",
       "\n",
       "        [[0.49313724, 0.47941175, 0.45882353],\n",
       "         [0.4884804 , 0.4759804 , 0.45441177],\n",
       "         [0.47916666, 0.46911764, 0.44558823],\n",
       "         ...,\n",
       "         [0.68210787, 0.6811274 , 0.6720588 ],\n",
       "         [0.6855392 , 0.6845588 , 0.675     ],\n",
       "         [0.6872549 , 0.6862745 , 0.6764706 ]],\n",
       "\n",
       "        [[0.47843137, 0.46666667, 0.44705883],\n",
       "         [0.4745098 , 0.46372548, 0.44313726],\n",
       "         [0.46666667, 0.45784312, 0.43529412],\n",
       "         ...,\n",
       "         [0.64215684, 0.64215684, 0.6343137 ],\n",
       "         [0.6401961 , 0.6401961 , 0.63235295],\n",
       "         [0.6392157 , 0.6392157 , 0.6313726 ]]]], dtype=float32)"
      ]
     },
     "execution_count": 15,
     "metadata": {
      "tags": []
     },
     "output_type": "execute_result"
    }
   ],
   "source": [
    "x_train /= 255\n",
    "x_test /= 255\n",
    "x_train"
   ]
  },
  {
   "cell_type": "code",
   "execution_count": null,
   "metadata": {
    "colab": {
     "base_uri": "https://localhost:8080/",
     "height": 1000
    },
    "colab_type": "code",
    "id": "c2Pk1lc_Kdsv",
    "outputId": "74d520e4-6eb9-4599-9ecb-a08b735d02b7"
   },
   "outputs": [
    {
     "data": {
      "text/plain": [
       "array([[[[0.61960787, 0.4392157 , 0.19215687],\n",
       "         [0.62058824, 0.43823528, 0.19019608],\n",
       "         [0.622549  , 0.4362745 , 0.18627451],\n",
       "         ...,\n",
       "         [0.48431373, 0.3509804 , 0.1382353 ],\n",
       "         [0.46470588, 0.3392157 , 0.13235295],\n",
       "         [0.45490196, 0.33333334, 0.12941177]],\n",
       "\n",
       "        [[0.6137255 , 0.4392157 , 0.19411765],\n",
       "         [0.6142157 , 0.4379902 , 0.18995099],\n",
       "         [0.61519605, 0.43553922, 0.18161765],\n",
       "         ...,\n",
       "         [0.48431373, 0.35171568, 0.13553922],\n",
       "         [0.46666667, 0.34142157, 0.13210784],\n",
       "         [0.45784312, 0.3362745 , 0.13039216]],\n",
       "\n",
       "        [[0.6019608 , 0.4392157 , 0.19803922],\n",
       "         [0.6014706 , 0.4375    , 0.18946078],\n",
       "         [0.6004902 , 0.43406862, 0.17230392],\n",
       "         ...,\n",
       "         [0.48431373, 0.35318628, 0.13014705],\n",
       "         [0.47058824, 0.34583333, 0.13161765],\n",
       "         [0.46372548, 0.34215686, 0.13235295]],\n",
       "\n",
       "        ...,\n",
       "\n",
       "        [[0.23235294, 0.44607842, 0.6509804 ],\n",
       "         [0.2240196 , 0.43529412, 0.6335784 ],\n",
       "         [0.20735294, 0.4137255 , 0.5987745 ],\n",
       "         ...,\n",
       "         [0.10882353, 0.30612746, 0.47843137],\n",
       "         [0.08921569, 0.27132353, 0.44117647],\n",
       "         [0.07941177, 0.25392157, 0.422549  ]],\n",
       "\n",
       "        [[0.21862745, 0.42843136, 0.63529414],\n",
       "         [0.21715686, 0.42352942, 0.6223039 ],\n",
       "         [0.21421568, 0.4137255 , 0.59632355],\n",
       "         ...,\n",
       "         [0.11666667, 0.31053922, 0.48431373],\n",
       "         [0.09313726, 0.2767157 , 0.44705883],\n",
       "         [0.08137255, 0.25980392, 0.42843136]],\n",
       "\n",
       "        [[0.21176471, 0.41960785, 0.627451  ],\n",
       "         [0.21372549, 0.41764706, 0.6166667 ],\n",
       "         [0.21764706, 0.4137255 , 0.595098  ],\n",
       "         ...,\n",
       "         [0.12058824, 0.3127451 , 0.4872549 ],\n",
       "         [0.09509804, 0.27941176, 0.45      ],\n",
       "         [0.08235294, 0.2627451 , 0.43137255]]],\n",
       "\n",
       "\n",
       "       [[[0.92156863, 0.92156863, 0.92156863],\n",
       "         [0.91764706, 0.91764706, 0.91764706],\n",
       "         [0.9098039 , 0.9098039 , 0.9098039 ],\n",
       "         ...,\n",
       "         [0.9127451 , 0.9127451 , 0.9127451 ],\n",
       "         [0.9107843 , 0.9107843 , 0.9107843 ],\n",
       "         [0.9098039 , 0.9098039 , 0.9098039 ]],\n",
       "\n",
       "        [[0.9245098 , 0.9245098 , 0.9245098 ],\n",
       "         [0.92083335, 0.92083335, 0.92083335],\n",
       "         [0.9134804 , 0.9134804 , 0.9134804 ],\n",
       "         ...,\n",
       "         [0.91568625, 0.91568625, 0.91568625],\n",
       "         [0.9137255 , 0.9137255 , 0.9137255 ],\n",
       "         [0.9127451 , 0.9127451 , 0.9127451 ]],\n",
       "\n",
       "        [[0.93039215, 0.93039215, 0.93039215],\n",
       "         [0.92720586, 0.92720586, 0.92720586],\n",
       "         [0.92083335, 0.92083335, 0.92083335],\n",
       "         ...,\n",
       "         [0.92156863, 0.92156863, 0.92156863],\n",
       "         [0.9196078 , 0.9196078 , 0.9196078 ],\n",
       "         [0.91862744, 0.91862744, 0.91862744]],\n",
       "\n",
       "        ...,\n",
       "\n",
       "        [[0.3245098 , 0.38137254, 0.32254902],\n",
       "         [0.29240197, 0.34632352, 0.28014705],\n",
       "         [0.22818628, 0.27622548, 0.19534314],\n",
       "         ...,\n",
       "         [0.7235294 , 0.78210783, 0.76862746],\n",
       "         [0.7294118 , 0.7875    , 0.77843136],\n",
       "         [0.7323529 , 0.79019606, 0.78333336]],\n",
       "\n",
       "        [[0.33039215, 0.39117646, 0.3245098 ],\n",
       "         [0.30465686, 0.3625    , 0.2875    ],\n",
       "         [0.2531863 , 0.30514705, 0.2134804 ],\n",
       "         ...,\n",
       "         [0.71568626, 0.7737745 , 0.7607843 ],\n",
       "         [0.7254902 , 0.78210783, 0.7745098 ],\n",
       "         [0.73039216, 0.7862745 , 0.78137255]],\n",
       "\n",
       "        [[0.33333334, 0.39607844, 0.3254902 ],\n",
       "         [0.3107843 , 0.37058824, 0.29117647],\n",
       "         [0.26568627, 0.31960785, 0.22254902],\n",
       "         ...,\n",
       "         [0.7117647 , 0.76960784, 0.75686276],\n",
       "         [0.7235294 , 0.7794118 , 0.77254903],\n",
       "         [0.7294118 , 0.78431374, 0.78039217]]],\n",
       "\n",
       "\n",
       "       [[[0.61960787, 0.74509805, 0.87058824],\n",
       "         [0.61960787, 0.74215686, 0.8666667 ],\n",
       "         [0.61960787, 0.7362745 , 0.85882354],\n",
       "         ...,\n",
       "         [0.93039215, 0.93921566, 0.9558824 ],\n",
       "         [0.93235296, 0.9431372 , 0.9617647 ],\n",
       "         [0.93333334, 0.94509804, 0.9647059 ]],\n",
       "\n",
       "        [[0.6313726 , 0.75490195, 0.877451  ],\n",
       "         [0.63186276, 0.752451  , 0.8737745 ],\n",
       "         [0.63284314, 0.747549  , 0.8664216 ],\n",
       "         ...,\n",
       "         [0.93897057, 0.9458333 , 0.9622549 ],\n",
       "         [0.9404412 , 0.9492647 , 0.9671569 ],\n",
       "         [0.9411765 , 0.95098037, 0.96960783]],\n",
       "\n",
       "        [[0.654902  , 0.7745098 , 0.89117646],\n",
       "         [0.65637255, 0.7730392 , 0.8879902 ],\n",
       "         [0.65931374, 0.77009803, 0.88161767],\n",
       "         ...,\n",
       "         [0.95612746, 0.95906866, 0.975     ],\n",
       "         [0.95661765, 0.9615196 , 0.97794116],\n",
       "         [0.95686275, 0.9627451 , 0.9794118 ]],\n",
       "\n",
       "        ...,\n",
       "\n",
       "        [[0.09509804, 0.14019608, 0.16078432],\n",
       "         [0.09852941, 0.14362745, 0.16446078],\n",
       "         [0.10539216, 0.1504902 , 0.17181373],\n",
       "         ...,\n",
       "         [0.01715686, 0.02401961, 0.0127451 ],\n",
       "         [0.02009804, 0.02696078, 0.01470588],\n",
       "         [0.02156863, 0.02843137, 0.01568628]],\n",
       "\n",
       "        [[0.10490196, 0.15392157, 0.1764706 ],\n",
       "         [0.10735294, 0.15637255, 0.17965686],\n",
       "         [0.1122549 , 0.16127451, 0.1860294 ],\n",
       "         ...,\n",
       "         [0.01813726, 0.02303922, 0.01470588],\n",
       "         [0.02303922, 0.02794118, 0.02058824],\n",
       "         [0.0254902 , 0.03039216, 0.02352941]],\n",
       "\n",
       "        [[0.10980392, 0.16078432, 0.18431373],\n",
       "         [0.11176471, 0.1627451 , 0.1872549 ],\n",
       "         [0.11568628, 0.16666667, 0.19313726],\n",
       "         ...,\n",
       "         [0.01862745, 0.02254902, 0.01568628],\n",
       "         [0.0245098 , 0.02843137, 0.02352941],\n",
       "         [0.02745098, 0.03137255, 0.02745098]]],\n",
       "\n",
       "\n",
       "       ...,\n",
       "\n",
       "\n",
       "       [[[0.07843138, 0.05882353, 0.04705882],\n",
       "         [0.07745098, 0.05784314, 0.04607843],\n",
       "         [0.0754902 , 0.05588235, 0.04411765],\n",
       "         ...,\n",
       "         [0.04803922, 0.04411765, 0.03627451],\n",
       "         [0.05      , 0.04607843, 0.0382353 ],\n",
       "         [0.05098039, 0.04705882, 0.03921569]],\n",
       "\n",
       "        [[0.07941177, 0.05980392, 0.04803922],\n",
       "         [0.07843138, 0.05906863, 0.04730392],\n",
       "         [0.07647059, 0.05759804, 0.04583333],\n",
       "         ...,\n",
       "         [0.04632353, 0.04240196, 0.03455883],\n",
       "         [0.04877451, 0.04485294, 0.03700981],\n",
       "         [0.05      , 0.04607843, 0.0382353 ]],\n",
       "\n",
       "        [[0.08137255, 0.06176471, 0.05      ],\n",
       "         [0.08039216, 0.06151961, 0.0497549 ],\n",
       "         [0.07843138, 0.06102941, 0.04926471],\n",
       "         ...,\n",
       "         [0.04289216, 0.03897059, 0.03112745],\n",
       "         [0.04632353, 0.04240196, 0.03455883],\n",
       "         [0.04803922, 0.04411765, 0.03627451]],\n",
       "\n",
       "        ...,\n",
       "\n",
       "        [[0.12745099, 0.09607843, 0.05294118],\n",
       "         [0.12843138, 0.09705883, 0.05392157],\n",
       "         [0.13039216, 0.09901961, 0.05588235],\n",
       "         ...,\n",
       "         [0.10318627, 0.09093137, 0.20857844],\n",
       "         [0.0997549 , 0.08651961, 0.19240196],\n",
       "         [0.09803922, 0.08431373, 0.18431373]],\n",
       "\n",
       "        [[0.12352941, 0.09215686, 0.04901961],\n",
       "         [0.1245098 , 0.09313726, 0.05      ],\n",
       "         [0.1264706 , 0.09509804, 0.05196078],\n",
       "         ...,\n",
       "         [0.10171568, 0.08848039, 0.20416667],\n",
       "         [0.0992647 , 0.08308823, 0.19093138],\n",
       "         [0.09803922, 0.08039216, 0.18431373]],\n",
       "\n",
       "        [[0.12156863, 0.09019608, 0.04705882],\n",
       "         [0.12254902, 0.09117647, 0.04803922],\n",
       "         [0.1245098 , 0.09313726, 0.05      ],\n",
       "         ...,\n",
       "         [0.10098039, 0.0872549 , 0.20196079],\n",
       "         [0.09901961, 0.08137255, 0.19019608],\n",
       "         [0.09803922, 0.07843138, 0.18431373]]],\n",
       "\n",
       "\n",
       "       [[[0.09803922, 0.15686275, 0.04705882],\n",
       "         [0.0882353 , 0.15294118, 0.0382353 ],\n",
       "         [0.06862745, 0.14509805, 0.02058824],\n",
       "         ...,\n",
       "         [0.34411764, 0.41960785, 0.41960785],\n",
       "         [0.3107843 , 0.37254903, 0.38039216],\n",
       "         [0.29411766, 0.34901962, 0.36078432]],\n",
       "\n",
       "        [[0.08529412, 0.14215687, 0.04117647],\n",
       "         [0.07990196, 0.14215687, 0.03480392],\n",
       "         [0.06911765, 0.14215687, 0.02205882],\n",
       "         ...,\n",
       "         [0.39313725, 0.46691176, 0.47696078],\n",
       "         [0.34607843, 0.40661764, 0.425     ],\n",
       "         [0.32254902, 0.3764706 , 0.3990196 ]],\n",
       "\n",
       "        [[0.05980392, 0.1127451 , 0.02941176],\n",
       "         [0.0632353 , 0.12058824, 0.02794118],\n",
       "         [0.07009804, 0.13627452, 0.025     ],\n",
       "         ...,\n",
       "         [0.49117646, 0.5615196 , 0.59166664],\n",
       "         [0.41666666, 0.4747549 , 0.5142157 ],\n",
       "         [0.37941176, 0.43137255, 0.47549018]],\n",
       "\n",
       "        ...,\n",
       "\n",
       "        [[0.39607844, 0.5117647 , 0.32058823],\n",
       "         [0.39681372, 0.51029414, 0.32009804],\n",
       "         [0.39828432, 0.50735295, 0.31911764],\n",
       "         ...,\n",
       "         [0.37843138, 0.48897058, 0.32254902],\n",
       "         [0.36666667, 0.47867647, 0.31470588],\n",
       "         [0.36078432, 0.4735294 , 0.3107843 ]],\n",
       "\n",
       "        [[0.38039216, 0.5       , 0.3107843 ],\n",
       "         [0.38063726, 0.49754903, 0.3093137 ],\n",
       "         [0.38112745, 0.49264705, 0.30637255],\n",
       "         ...,\n",
       "         [0.37254903, 0.48259804, 0.31862745],\n",
       "         [0.3647059 , 0.4752451 , 0.31470588],\n",
       "         [0.36078432, 0.4715686 , 0.3127451 ]],\n",
       "\n",
       "        [[0.37254903, 0.49411765, 0.30588236],\n",
       "         [0.37254903, 0.49117646, 0.30392158],\n",
       "         [0.37254903, 0.4852941 , 0.3       ],\n",
       "         ...,\n",
       "         [0.36960784, 0.47941175, 0.31666666],\n",
       "         [0.36372548, 0.4735294 , 0.31470588],\n",
       "         [0.36078432, 0.47058824, 0.3137255 ]]],\n",
       "\n",
       "\n",
       "       [[[0.28627452, 0.30588236, 0.29411766],\n",
       "         [0.3107843 , 0.33039215, 0.33137256],\n",
       "         [0.35980392, 0.37941176, 0.40588236],\n",
       "         ...,\n",
       "         [0.59607846, 0.6490196 , 0.67156863],\n",
       "         [0.7294118 , 0.77843136, 0.8068628 ],\n",
       "         [0.79607844, 0.84313726, 0.8745098 ]],\n",
       "\n",
       "        [[0.28235295, 0.3009804 , 0.28921568],\n",
       "         [0.30441177, 0.32328433, 0.32377452],\n",
       "         [0.3485294 , 0.36789215, 0.39289215],\n",
       "         ...,\n",
       "         [0.52867645, 0.57965684, 0.5955882 ],\n",
       "         [0.6526961 , 0.7017157 , 0.7240196 ],\n",
       "         [0.7147059 , 0.7627451 , 0.7882353 ]],\n",
       "\n",
       "        [[0.27450982, 0.29117647, 0.27941176],\n",
       "         [0.29166666, 0.30906862, 0.30857843],\n",
       "         [0.3259804 , 0.34485295, 0.36691177],\n",
       "         ...,\n",
       "         [0.39387256, 0.44093138, 0.44362745],\n",
       "         [0.49926472, 0.5482843 , 0.55833334],\n",
       "         [0.55196077, 0.6019608 , 0.6156863 ]],\n",
       "\n",
       "        ...,\n",
       "\n",
       "        [[0.45196077, 0.4735294 , 0.35588235],\n",
       "         [0.45906863, 0.4762255 , 0.35980392],\n",
       "         [0.4732843 , 0.48161766, 0.36764705],\n",
       "         ...,\n",
       "         [0.22205882, 0.21740197, 0.19901961],\n",
       "         [0.14460784, 0.14240196, 0.13627452],\n",
       "         [0.10588235, 0.10490196, 0.10490196]],\n",
       "\n",
       "        [[0.45392156, 0.4715686 , 0.35392156],\n",
       "         [0.4595588 , 0.47377452, 0.35784313],\n",
       "         [0.47083333, 0.47818628, 0.36568627],\n",
       "         ...,\n",
       "         [0.225     , 0.21691176, 0.19705883],\n",
       "         [0.14558823, 0.14093137, 0.13431373],\n",
       "         [0.10588235, 0.10294118, 0.10294118]],\n",
       "\n",
       "        [[0.45490196, 0.47058824, 0.3529412 ],\n",
       "         [0.4598039 , 0.47254902, 0.35686275],\n",
       "         [0.46960783, 0.4764706 , 0.3647059 ],\n",
       "         ...,\n",
       "         [0.22647059, 0.21666667, 0.19607843],\n",
       "         [0.14607844, 0.14019608, 0.13333334],\n",
       "         [0.10588235, 0.10196079, 0.10196079]]]], dtype=float32)"
      ]
     },
     "execution_count": 16,
     "metadata": {
      "tags": []
     },
     "output_type": "execute_result"
    }
   ],
   "source": [
    "x_test"
   ]
  },
  {
   "cell_type": "markdown",
   "metadata": {
    "colab_type": "text",
    "id": "e_baMC1Ry3ng"
   },
   "source": [
    "##### One-hot encode output column (image categories)"
   ]
  },
  {
   "cell_type": "code",
   "execution_count": null,
   "metadata": {
    "colab": {},
    "colab_type": "code",
    "id": "Wz18NWmsyir3"
   },
   "outputs": [],
   "source": [
    "num_classes = 10\n",
    "y_train = tf.keras.utils.to_categorical(y_train, num_classes)\n",
    "y_test = tf.keras.utils.to_categorical(y_test, num_classes)"
   ]
  },
  {
   "cell_type": "code",
   "execution_count": null,
   "metadata": {
    "colab": {
     "base_uri": "https://localhost:8080/",
     "height": 170
    },
    "colab_type": "code",
    "id": "0lxwcnFhybVg",
    "outputId": "6af05ee9-d6d4-4130-b860-edf787b8d5d5"
   },
   "outputs": [
    {
     "name": "stdout",
     "output_type": "stream",
     "text": [
      "(50000, 64, 64, 3)\n",
      "(10000, 64, 64, 3)\n",
      "(50000, 10)\n",
      "(10000, 10)\n",
      "(64, 64, 3)\n",
      "float32\n",
      "float32\n",
      "float32\n",
      "float32\n"
     ]
    }
   ],
   "source": [
    "input_shape = (x_train.shape[1], x_train.shape[2], x_train.shape[3])\n",
    "print(x_train.shape)\n",
    "print(x_test.shape)\n",
    "print(y_train.shape)\n",
    "print(y_test.shape)\n",
    "print(input_shape)\n",
    "\n",
    "print(x_train.dtype)\n",
    "print(x_test.dtype)\n",
    "print(y_train.dtype)\n",
    "print(y_test.dtype)"
   ]
  },
  {
   "cell_type": "markdown",
   "metadata": {
    "colab_type": "text",
    "id": "SxKj9YMQlaCp"
   },
   "source": [
    "## CNN without Transfer Learning"
   ]
  },
  {
   "cell_type": "code",
   "execution_count": null,
   "metadata": {
    "colab": {
     "base_uri": "https://localhost:8080/",
     "height": 731
    },
    "colab_type": "code",
    "id": "W4OK4s9illwl",
    "outputId": "9aeb7e1f-72cd-4d91-ff7b-8719e91dde5c"
   },
   "outputs": [
    {
     "name": "stdout",
     "output_type": "stream",
     "text": [
      "\n",
      "Run:  1\n",
      "Train on 50000 samples, validate on 10000 samples\n",
      "Epoch 1/1000\n",
      "50000/50000 - 17s - loss: 1.5731 - val_loss: 1.2638\n",
      "Epoch 2/1000\n",
      "50000/50000 - 9s - loss: 1.1498 - val_loss: 0.9909\n",
      "Epoch 3/1000\n",
      "50000/50000 - 9s - loss: 0.9441 - val_loss: 0.8908\n",
      "Epoch 4/1000\n",
      "50000/50000 - 8s - loss: 0.8082 - val_loss: 0.8297\n",
      "Epoch 5/1000\n",
      "50000/50000 - 9s - loss: 0.6971 - val_loss: 0.8046\n",
      "Epoch 6/1000\n",
      "50000/50000 - 8s - loss: 0.5806 - val_loss: 0.8392\n",
      "Epoch 7/1000\n",
      "50000/50000 - 8s - loss: 0.4980 - val_loss: 0.8181\n",
      "Epoch 8/1000\n",
      "50000/50000 - 8s - loss: 0.4215 - val_loss: 0.8919\n",
      "Epoch 00008: early stopping\n",
      "\n",
      "Run:  2\n",
      "Train on 50000 samples, validate on 10000 samples\n",
      "Epoch 1/1000\n",
      "50000/50000 - 9s - loss: 1.5125 - val_loss: 1.1696\n",
      "Epoch 2/1000\n",
      "50000/50000 - 8s - loss: 1.1039 - val_loss: 0.9661\n",
      "Epoch 3/1000\n",
      "50000/50000 - 8s - loss: 0.9116 - val_loss: 0.9078\n",
      "Epoch 4/1000\n",
      "50000/50000 - 8s - loss: 0.7718 - val_loss: 0.8732\n",
      "Epoch 5/1000\n",
      "50000/50000 - 8s - loss: 0.6596 - val_loss: 0.8452\n",
      "Epoch 6/1000\n",
      "50000/50000 - 9s - loss: 0.5622 - val_loss: 0.7994\n",
      "Epoch 7/1000\n",
      "50000/50000 - 8s - loss: 0.4659 - val_loss: 0.8324\n",
      "Epoch 8/1000\n",
      "50000/50000 - 8s - loss: 0.3846 - val_loss: 0.8970\n",
      "Epoch 9/1000\n",
      "50000/50000 - 8s - loss: 0.3270 - val_loss: 0.9401\n",
      "Epoch 00009: early stopping\n"
     ]
    }
   ],
   "source": [
    "# Save best model with best weights\n",
    "checkpointer = ModelCheckpoint(filepath=os.path.join(save_path, \"cnn_no_tl.hdf5\"), \n",
    "                               verbose=0, save_best_only=True)\n",
    "\n",
    "# Run model training two times to jump out of local optimum \n",
    "for i in range(2):\n",
    "    print('\\nRun: ', i + 1)\n",
    "    \n",
    "    cnn_no_tl = Sequential()\n",
    "    \n",
    "    cnn_no_tl.add(Conv2D(32, kernel_size=(3, 3), strides=(1, 1), activation='relu', input_shape=input_shape))\n",
    "    cnn_no_tl.add(MaxPooling2D(pool_size=(2, 2), strides=(2, 2)))\n",
    "    cnn_no_tl.add(Conv2D(32, kernel_size=(3, 3), strides=(1, 1), activation='relu'))\n",
    "    cnn_no_tl.add(MaxPooling2D(pool_size=(2, 2), strides=(2, 2)))\n",
    "    cnn_no_tl.add(Conv2D(64, kernel_size=(3, 3), strides=(1, 1), activation='relu'))\n",
    "    cnn_no_tl.add(Conv2D(64, kernel_size=(3, 3), strides=(1, 1), activation='relu'))\n",
    "    cnn_no_tl.add(MaxPooling2D(pool_size=(2, 2), strides=(2, 2)))\n",
    "    cnn_no_tl.add(Flatten())\n",
    "    cnn_no_tl.add(Dense(512, activation='relu'))\n",
    "    cnn_no_tl.add(Dropout(0.5))\n",
    "    cnn_no_tl.add(Dense(y_train.shape[1], activation='softmax'))\n",
    "\n",
    "    # Use categorical crossentropy loss since it is a classification problem\n",
    "    cnn_no_tl.compile(loss='categorical_crossentropy', optimizer=Adam(lr=0.001, decay=1e-6))\n",
    "\n",
    "    # Stop training when model stops improving\n",
    "    monitor = EarlyStopping(monitor='val_loss', min_delta=1e-3, patience=3, verbose=1, mode='auto')\n",
    "\n",
    "    cnn_no_tl.fit(x_train, y_train, validation_data=(x_test, y_test), \n",
    "                   callbacks=[monitor, checkpointer], verbose=2, epochs=1000, batch_size=128)"
   ]
  },
  {
   "cell_type": "markdown",
   "metadata": {
    "colab_type": "text",
    "id": "yFWHYNuw4kEN"
   },
   "source": [
    "## CNN with Transfer Learning"
   ]
  },
  {
   "cell_type": "markdown",
   "metadata": {
    "colab_type": "text",
    "id": "xgsjTuMW61vi"
   },
   "source": [
    "##### Load pre_trained VGG16 model"
   ]
  },
  {
   "cell_type": "code",
   "execution_count": null,
   "metadata": {
    "colab": {
     "base_uri": "https://localhost:8080/",
     "height": 833
    },
    "colab_type": "code",
    "id": "_1Uj1mdZ5mJZ",
    "outputId": "1b395851-bae1-46d4-85e8-a06097f233a4"
   },
   "outputs": [
    {
     "name": "stdout",
     "output_type": "stream",
     "text": [
      "Downloading data from https://github.com/fchollet/deep-learning-models/releases/download/v0.1/vgg16_weights_tf_dim_ordering_tf_kernels_notop.h5\n",
      "58892288/58889256 [==============================] - 2s 0us/step\n",
      "Model: \"vgg16\"\n",
      "_________________________________________________________________\n",
      "Layer (type)                 Output Shape              Param #   \n",
      "=================================================================\n",
      "input_1 (InputLayer)         [(None, 64, 64, 3)]       0         \n",
      "_________________________________________________________________\n",
      "block1_conv1 (Conv2D)        (None, 64, 64, 64)        1792      \n",
      "_________________________________________________________________\n",
      "block1_conv2 (Conv2D)        (None, 64, 64, 64)        36928     \n",
      "_________________________________________________________________\n",
      "block1_pool (MaxPooling2D)   (None, 32, 32, 64)        0         \n",
      "_________________________________________________________________\n",
      "block2_conv1 (Conv2D)        (None, 32, 32, 128)       73856     \n",
      "_________________________________________________________________\n",
      "block2_conv2 (Conv2D)        (None, 32, 32, 128)       147584    \n",
      "_________________________________________________________________\n",
      "block2_pool (MaxPooling2D)   (None, 16, 16, 128)       0         \n",
      "_________________________________________________________________\n",
      "block3_conv1 (Conv2D)        (None, 16, 16, 256)       295168    \n",
      "_________________________________________________________________\n",
      "block3_conv2 (Conv2D)        (None, 16, 16, 256)       590080    \n",
      "_________________________________________________________________\n",
      "block3_conv3 (Conv2D)        (None, 16, 16, 256)       590080    \n",
      "_________________________________________________________________\n",
      "block3_pool (MaxPooling2D)   (None, 8, 8, 256)         0         \n",
      "_________________________________________________________________\n",
      "block4_conv1 (Conv2D)        (None, 8, 8, 512)         1180160   \n",
      "_________________________________________________________________\n",
      "block4_conv2 (Conv2D)        (None, 8, 8, 512)         2359808   \n",
      "_________________________________________________________________\n",
      "block4_conv3 (Conv2D)        (None, 8, 8, 512)         2359808   \n",
      "_________________________________________________________________\n",
      "block4_pool (MaxPooling2D)   (None, 4, 4, 512)         0         \n",
      "_________________________________________________________________\n",
      "block5_conv1 (Conv2D)        (None, 4, 4, 512)         2359808   \n",
      "_________________________________________________________________\n",
      "block5_conv2 (Conv2D)        (None, 4, 4, 512)         2359808   \n",
      "_________________________________________________________________\n",
      "block5_conv3 (Conv2D)        (None, 4, 4, 512)         2359808   \n",
      "_________________________________________________________________\n",
      "block5_pool (MaxPooling2D)   (None, 2, 2, 512)         0         \n",
      "=================================================================\n",
      "Total params: 14,714,688\n",
      "Trainable params: 14,714,688\n",
      "Non-trainable params: 0\n",
      "_________________________________________________________________\n"
     ]
    }
   ],
   "source": [
    "vgg_model = VGG16(weights='imagenet', include_top=False, input_shape=input_shape)\n",
    "vgg_model.summary()"
   ]
  },
  {
   "cell_type": "markdown",
   "metadata": {
    "colab_type": "text",
    "id": "TSz8BLvO67xa"
   },
   "source": [
    "##### Train my own CNN model on top of pre-trained model"
   ]
  },
  {
   "cell_type": "code",
   "execution_count": null,
   "metadata": {
    "colab": {
     "base_uri": "https://localhost:8080/",
     "height": 901
    },
    "colab_type": "code",
    "id": "LkhPzIep4jiI",
    "outputId": "acb1163f-e222-472e-f451-d9b47c5faed2"
   },
   "outputs": [
    {
     "name": "stdout",
     "output_type": "stream",
     "text": [
      "\n",
      "Run:  1\n",
      "Train on 50000 samples, validate on 10000 samples\n",
      "Epoch 1/1000\n",
      "50000/50000 - 16s - loss: 1.2586 - val_loss: 1.0095\n",
      "Epoch 2/1000\n",
      "50000/50000 - 14s - loss: 1.0188 - val_loss: 0.9420\n",
      "Epoch 3/1000\n",
      "50000/50000 - 14s - loss: 0.9504 - val_loss: 0.9116\n",
      "Epoch 4/1000\n",
      "50000/50000 - 14s - loss: 0.9059 - val_loss: 0.8832\n",
      "Epoch 5/1000\n",
      "50000/50000 - 14s - loss: 0.8678 - val_loss: 0.8684\n",
      "Epoch 6/1000\n",
      "50000/50000 - 14s - loss: 0.8389 - val_loss: 0.8518\n",
      "Epoch 7/1000\n",
      "50000/50000 - 13s - loss: 0.8124 - val_loss: 0.8709\n",
      "Epoch 8/1000\n",
      "50000/50000 - 13s - loss: 0.7827 - val_loss: 0.8548\n",
      "Epoch 9/1000\n",
      "50000/50000 - 13s - loss: 0.7645 - val_loss: 0.8634\n",
      "Epoch 00009: early stopping\n",
      "\n",
      "Run:  2\n",
      "Train on 50000 samples, validate on 10000 samples\n",
      "Epoch 1/1000\n",
      "50000/50000 - 14s - loss: 1.2565 - val_loss: 1.0023\n",
      "Epoch 2/1000\n",
      "50000/50000 - 13s - loss: 1.0173 - val_loss: 0.9446\n",
      "Epoch 3/1000\n",
      "50000/50000 - 13s - loss: 0.9518 - val_loss: 0.9227\n",
      "Epoch 4/1000\n",
      "50000/50000 - 13s - loss: 0.9033 - val_loss: 0.8896\n",
      "Epoch 5/1000\n",
      "50000/50000 - 13s - loss: 0.8702 - val_loss: 0.8820\n",
      "Epoch 6/1000\n",
      "50000/50000 - 13s - loss: 0.8350 - val_loss: 0.8775\n",
      "Epoch 7/1000\n",
      "50000/50000 - 14s - loss: 0.8081 - val_loss: 0.8452\n",
      "Epoch 8/1000\n",
      "50000/50000 - 14s - loss: 0.7834 - val_loss: 0.8318\n",
      "Epoch 9/1000\n",
      "50000/50000 - 13s - loss: 0.7595 - val_loss: 0.8579\n",
      "Epoch 10/1000\n",
      "50000/50000 - 14s - loss: 0.7390 - val_loss: 0.8281\n",
      "Epoch 11/1000\n",
      "50000/50000 - 13s - loss: 0.7187 - val_loss: 0.8314\n",
      "Epoch 12/1000\n",
      "50000/50000 - 13s - loss: 0.7018 - val_loss: 0.8440\n",
      "Epoch 13/1000\n",
      "50000/50000 - 13s - loss: 0.6861 - val_loss: 0.8320\n",
      "Epoch 00013: early stopping\n"
     ]
    }
   ],
   "source": [
    "# Save best model with best weights\n",
    "checkpointer = ModelCheckpoint(filepath=os.path.join(save_path, \"cnn_tl.hdf5\"), \n",
    "                               verbose=0, save_best_only=True)\n",
    "\n",
    "# Run model training two times to jump out of local optimum \n",
    "for i in range(2):\n",
    "    print('\\nRun: ', i + 1)\n",
    "    \n",
    "    # Apply layers of VGG16 model to cnn_tl\n",
    "    cnn_tl = Sequential()\n",
    "\n",
    "    for layer in vgg_model.layers:\n",
    "      cnn_tl.add(layer)\n",
    "\n",
    "    # Fix weights of the pre-trained model\n",
    "    for layer in cnn_tl.layers:\n",
    "      layer.trainable = False\n",
    "\n",
    "    cnn_tl.add(Flatten())\n",
    "    cnn_tl.add(Dense(512, activation='relu'))\n",
    "    cnn_tl.add(Dropout(0.5))\n",
    "    cnn_tl.add(Dense(y_train.shape[1], activation='softmax'))\n",
    "\n",
    "    # Use categorical crossentropy loss since it is a classification problem\n",
    "    cnn_tl.compile(loss='categorical_crossentropy', optimizer=Adam(lr=0.001, decay=1e-6))\n",
    "\n",
    "    # Stop training when model stops improving\n",
    "    monitor = EarlyStopping(monitor='val_loss', min_delta=1e-3, patience=3, verbose=1, mode='auto')\n",
    "\n",
    "    cnn_tl.fit(x_train, y_train, validation_data=(x_test, y_test), \n",
    "                   callbacks=[monitor, checkpointer], verbose=2, epochs=1000, batch_size=128)"
   ]
  },
  {
   "cell_type": "markdown",
   "metadata": {
    "colab_type": "text",
    "id": "5CcmErkE4MBq"
   },
   "source": [
    "## Load neural networks from each saved hdf5 file"
   ]
  },
  {
   "cell_type": "code",
   "execution_count": null,
   "metadata": {
    "colab": {},
    "colab_type": "code",
    "id": "CtC9KKfU4Exz"
   },
   "outputs": [],
   "source": [
    "saved_cnn_no_tl = load_model(os.path.join(save_path, \"cnn_no_tl.hdf5\"))\n",
    "\n",
    "saved_cnn_tl = load_model(os.path.join(save_path, \"cnn_tl.hdf5\"))"
   ]
  },
  {
   "cell_type": "markdown",
   "metadata": {
    "colab_type": "text",
    "id": "7kwGP_hz8Kly"
   },
   "source": [
    "##### No Transfer Learning CNN Model Summary"
   ]
  },
  {
   "cell_type": "code",
   "execution_count": null,
   "metadata": {
    "colab": {
     "base_uri": "https://localhost:8080/",
     "height": 493
    },
    "colab_type": "code",
    "id": "VIZudryS4E8V",
    "outputId": "8efdbc10-f546-4139-ed98-b46ce33347d2"
   },
   "outputs": [
    {
     "name": "stdout",
     "output_type": "stream",
     "text": [
      "Model: \"sequential_1\"\n",
      "_________________________________________________________________\n",
      "Layer (type)                 Output Shape              Param #   \n",
      "=================================================================\n",
      "conv2d_4 (Conv2D)            (None, 62, 62, 32)        896       \n",
      "_________________________________________________________________\n",
      "conv2d_5 (Conv2D)            (None, 60, 60, 32)        9248      \n",
      "_________________________________________________________________\n",
      "max_pooling2d_2 (MaxPooling2 (None, 30, 30, 32)        0         \n",
      "_________________________________________________________________\n",
      "conv2d_6 (Conv2D)            (None, 28, 28, 64)        18496     \n",
      "_________________________________________________________________\n",
      "conv2d_7 (Conv2D)            (None, 26, 26, 64)        36928     \n",
      "_________________________________________________________________\n",
      "max_pooling2d_3 (MaxPooling2 (None, 13, 13, 64)        0         \n",
      "_________________________________________________________________\n",
      "flatten_1 (Flatten)          (None, 10816)             0         \n",
      "_________________________________________________________________\n",
      "dense_2 (Dense)              (None, 512)               5538304   \n",
      "_________________________________________________________________\n",
      "dropout_1 (Dropout)          (None, 512)               0         \n",
      "_________________________________________________________________\n",
      "dense_3 (Dense)              (None, 10)                5130      \n",
      "=================================================================\n",
      "Total params: 5,609,002\n",
      "Trainable params: 5,609,002\n",
      "Non-trainable params: 0\n",
      "_________________________________________________________________\n"
     ]
    }
   ],
   "source": [
    "saved_cnn_no_tl.summary()"
   ]
  },
  {
   "cell_type": "markdown",
   "metadata": {
    "colab_type": "text",
    "id": "S6mw3RKYyRgP"
   },
   "source": [
    "##### Transfer Learning CNN Model Summary"
   ]
  },
  {
   "cell_type": "code",
   "execution_count": null,
   "metadata": {
    "colab": {
     "base_uri": "https://localhost:8080/",
     "height": 901
    },
    "colab_type": "code",
    "id": "T2uQ9g-w8P_X",
    "outputId": "7bc1f5fd-bbb6-40ff-cd38-62bf38663802"
   },
   "outputs": [
    {
     "name": "stdout",
     "output_type": "stream",
     "text": [
      "Model: \"sequential_3\"\n",
      "_________________________________________________________________\n",
      "Layer (type)                 Output Shape              Param #   \n",
      "=================================================================\n",
      "block1_conv1 (Conv2D)        (None, 64, 64, 64)        1792      \n",
      "_________________________________________________________________\n",
      "block1_conv2 (Conv2D)        (None, 64, 64, 64)        36928     \n",
      "_________________________________________________________________\n",
      "block1_pool (MaxPooling2D)   (None, 32, 32, 64)        0         \n",
      "_________________________________________________________________\n",
      "block2_conv1 (Conv2D)        (None, 32, 32, 128)       73856     \n",
      "_________________________________________________________________\n",
      "block2_conv2 (Conv2D)        (None, 32, 32, 128)       147584    \n",
      "_________________________________________________________________\n",
      "block2_pool (MaxPooling2D)   (None, 16, 16, 128)       0         \n",
      "_________________________________________________________________\n",
      "block3_conv1 (Conv2D)        (None, 16, 16, 256)       295168    \n",
      "_________________________________________________________________\n",
      "block3_conv2 (Conv2D)        (None, 16, 16, 256)       590080    \n",
      "_________________________________________________________________\n",
      "block3_conv3 (Conv2D)        (None, 16, 16, 256)       590080    \n",
      "_________________________________________________________________\n",
      "block3_pool (MaxPooling2D)   (None, 8, 8, 256)         0         \n",
      "_________________________________________________________________\n",
      "block4_conv1 (Conv2D)        (None, 8, 8, 512)         1180160   \n",
      "_________________________________________________________________\n",
      "block4_conv2 (Conv2D)        (None, 8, 8, 512)         2359808   \n",
      "_________________________________________________________________\n",
      "block4_conv3 (Conv2D)        (None, 8, 8, 512)         2359808   \n",
      "_________________________________________________________________\n",
      "block4_pool (MaxPooling2D)   (None, 4, 4, 512)         0         \n",
      "_________________________________________________________________\n",
      "block5_conv1 (Conv2D)        (None, 4, 4, 512)         2359808   \n",
      "_________________________________________________________________\n",
      "block5_conv2 (Conv2D)        (None, 4, 4, 512)         2359808   \n",
      "_________________________________________________________________\n",
      "block5_conv3 (Conv2D)        (None, 4, 4, 512)         2359808   \n",
      "_________________________________________________________________\n",
      "block5_pool (MaxPooling2D)   (None, 2, 2, 512)         0         \n",
      "_________________________________________________________________\n",
      "flatten_3 (Flatten)          (None, 2048)              0         \n",
      "_________________________________________________________________\n",
      "dense_6 (Dense)              (None, 512)               1049088   \n",
      "_________________________________________________________________\n",
      "dropout_3 (Dropout)          (None, 512)               0         \n",
      "_________________________________________________________________\n",
      "dense_7 (Dense)              (None, 10)                5130      \n",
      "=================================================================\n",
      "Total params: 15,768,906\n",
      "Trainable params: 1,054,218\n",
      "Non-trainable params: 14,714,688\n",
      "_________________________________________________________________\n"
     ]
    }
   ],
   "source": [
    "saved_cnn_tl.summary()"
   ]
  },
  {
   "cell_type": "markdown",
   "metadata": {
    "colab_type": "text",
    "id": "H_KKhGPnFA7S"
   },
   "source": [
    "## Model Evaluations¶\n",
    "#### Accuracy, Precision, Recall and F1 scores of each model"
   ]
  },
  {
   "cell_type": "markdown",
   "metadata": {
    "colab_type": "text",
    "id": "8WCVtSstHxgj"
   },
   "source": [
    "##### NO Transfer Learning CNN model"
   ]
  },
  {
   "cell_type": "code",
   "execution_count": null,
   "metadata": {
    "colab": {
     "base_uri": "https://localhost:8080/",
     "height": 85
    },
    "colab_type": "code",
    "id": "rOYcvMO7FBlC",
    "outputId": "6a51a179-e208-4321-ab80-6f73e94bf012"
   },
   "outputs": [
    {
     "name": "stdout",
     "output_type": "stream",
     "text": [
      "NO Transfer Learning CNN Accuracy score: 0.7316\n",
      "NO Transfer Learning CNN Precision score: 0.7325610653934176\n",
      "NO Transfer Learning CNN Recall score: 0.7316\n",
      "NO Transfer Learning CNN F1 score: 0.7297457016889314\n"
     ]
    }
   ],
   "source": [
    "y_true = np.argmax(y_test, axis=1) \n",
    "\n",
    "cnn_no_tl_pred = saved_cnn_no_tl.predict(x_test)\n",
    "cnn_no_tl_pred = np.argmax(cnn_no_tl_pred, axis=1) # raw probabilities to choose class (highest probability)\n",
    "\n",
    "cnn_no_tl_acc = metrics.accuracy_score(y_true, cnn_no_tl_pred)\n",
    "print(\"NO Transfer Learning CNN Accuracy score: {}\".format(cnn_no_tl_acc))\n",
    "cnn_no_tl_prec = metrics.precision_score(y_true, cnn_no_tl_pred, average= \"weighted\")\n",
    "print(\"NO Transfer Learning CNN Precision score: {}\".format(cnn_no_tl_prec))\n",
    "cnn_no_tl_rec = metrics.recall_score(y_true, cnn_no_tl_pred, average= \"weighted\")\n",
    "print(\"NO Transfer Learning CNN Recall score: {}\".format(cnn_no_tl_rec))\n",
    "cnn_no_tl_score = metrics.f1_score(y_true, cnn_no_tl_pred, average= \"weighted\")\n",
    "print(\"NO Transfer Learning CNN F1 score: {}\".format(cnn_no_tl_score))"
   ]
  },
  {
   "cell_type": "markdown",
   "metadata": {
    "colab_type": "text",
    "id": "9o8RAAW8H5Gl"
   },
   "source": [
    "##### Transfer Learning CNN model"
   ]
  },
  {
   "cell_type": "code",
   "execution_count": null,
   "metadata": {
    "colab": {
     "base_uri": "https://localhost:8080/",
     "height": 85
    },
    "colab_type": "code",
    "id": "zs3QRLCjGgCI",
    "outputId": "887f92d3-c088-4e0f-df45-6cd7cce9e66a"
   },
   "outputs": [
    {
     "name": "stdout",
     "output_type": "stream",
     "text": [
      "Transfer Learning CNN Accuracy score: 0.7142\n",
      "Transfer Learning CNN Precision score: 0.7129620524957372\n",
      "Transfer Learning CNN Recall score: 0.7142\n",
      "Transfer Learning CNN F1 score: 0.7119400101934159\n"
     ]
    }
   ],
   "source": [
    "cnn_tl_pred = saved_cnn_tl.predict(x_test)\n",
    "cnn_tl_pred = np.argmax(cnn_tl_pred, axis=1) # raw probabilities to choose class (highest probability)\n",
    "\n",
    "cnn_tl_acc = metrics.accuracy_score(y_true, cnn_tl_pred)\n",
    "print(\"Transfer Learning CNN Accuracy score: {}\".format(cnn_tl_acc))\n",
    "cnn_tl_prec = metrics.precision_score(y_true, cnn_tl_pred, average= \"weighted\")\n",
    "print(\"Transfer Learning CNN Precision score: {}\".format(cnn_tl_prec))\n",
    "cnn_tl_rec = metrics.recall_score(y_true, cnn_tl_pred, average= \"weighted\")\n",
    "print(\"Transfer Learning CNN Recall score: {}\".format(cnn_tl_rec))\n",
    "cnn_tl_score = metrics.f1_score(y_true, cnn_tl_pred, average= \"weighted\")\n",
    "print(\"Transfer Learning CNN F1 score: {}\".format(cnn_tl_score))"
   ]
  },
  {
   "cell_type": "markdown",
   "metadata": {
    "colab_type": "text",
    "id": "cw7uENZJFYl9"
   },
   "source": [
    "## Confusion Matrices, Plots, and Classification Reports\n"
   ]
  },
  {
   "cell_type": "code",
   "execution_count": null,
   "metadata": {
    "colab": {},
    "colab_type": "code",
    "id": "mysfYLHEMs3C"
   },
   "outputs": [],
   "source": [
    "categories = ['airplane', 'automobile', 'bird', 'cat', 'deer', 'dog', 'frog', 'horse', 'ship', 'truck']"
   ]
  },
  {
   "cell_type": "markdown",
   "metadata": {
    "colab_type": "text",
    "id": "chjv9azAIA4Q"
   },
   "source": [
    "##### NO Transfer Learning CNN model"
   ]
  },
  {
   "cell_type": "code",
   "execution_count": null,
   "metadata": {
    "colab": {
     "base_uri": "https://localhost:8080/",
     "height": 1000
    },
    "colab_type": "code",
    "id": "gwIb57eCFaua",
    "outputId": "a276dc92-4877-4678-9e94-03ffe7393efd"
   },
   "outputs": [
    {
     "name": "stdout",
     "output_type": "stream",
     "text": [
      "[[809  15  34  16  12   6  11   7  65  25]\n",
      " [ 16 877   0   9   5   3   7   6  28  49]\n",
      " [ 79   4 540  74  69  73 106  32  15   8]\n",
      " [ 26  13  59 553  45 182  72  26  15   9]\n",
      " [ 29   5  61  80 630  38  96  47  10   4]\n",
      " [ 17   4  31 176  44 655  24  31  14   4]\n",
      " [  3   4  28  43  18  24 868   4   6   2]\n",
      " [ 12   4  30  43  48  63  14 777   3   6]\n",
      " [ 62  40  10  16   4   6   4   3 836  19]\n",
      " [ 38  94   5  17   4   7   7  21  36 771]]\n"
     ]
    },
    {
     "data": {
      "image/png": "[encoded data removed]",
      "text/plain": [
       "<Figure size 576x576 with 2 Axes>"
      ]
     },
     "metadata": {
      "tags": []
     },
     "output_type": "display_data"
    },
    {
     "name": "stdout",
     "output_type": "stream",
     "text": [
      "              precision    recall  f1-score   support\n",
      "\n",
      "           0       0.74      0.81      0.77      1000\n",
      "           1       0.83      0.88      0.85      1000\n",
      "           2       0.68      0.54      0.60      1000\n",
      "           3       0.54      0.55      0.55      1000\n",
      "           4       0.72      0.63      0.67      1000\n",
      "           5       0.62      0.66      0.64      1000\n",
      "           6       0.72      0.87      0.79      1000\n",
      "           7       0.81      0.78      0.80      1000\n",
      "           8       0.81      0.84      0.82      1000\n",
      "           9       0.86      0.77      0.81      1000\n",
      "\n",
      "    accuracy                           0.73     10000\n",
      "   macro avg       0.73      0.73      0.73     10000\n",
      "weighted avg       0.73      0.73      0.73     10000\n",
      "\n"
     ]
    }
   ],
   "source": [
    "cm_visual(y_true, cnn_no_tl_pred, categories)"
   ]
  },
  {
   "cell_type": "markdown",
   "metadata": {
    "colab_type": "text",
    "id": "Ae9G_tHXIBh3"
   },
   "source": [
    "##### Transfer Learning CNN model"
   ]
  },
  {
   "cell_type": "code",
   "execution_count": null,
   "metadata": {
    "colab": {
     "base_uri": "https://localhost:8080/",
     "height": 1000
    },
    "colab_type": "code",
    "id": "a-K2CZo5Ib0B",
    "outputId": "386da4fa-8e78-4147-f812-15e108969d5c"
   },
   "outputs": [
    {
     "name": "stdout",
     "output_type": "stream",
     "text": [
      "[[810  18  21   6  27   4  12  10  68  24]\n",
      " [ 22 809   5  10   7  10  17  13  35  72]\n",
      " [ 74  13 610  40  88  40 102  23   9   1]\n",
      " [ 26  23  51 493  69 147 105  38  17  31]\n",
      " [ 20   9  43  58 692  22  76  59  11  10]\n",
      " [ 10  11  50 145  58 596  53  53  12  12]\n",
      " [  7  13  35  39  56  42 792   1  12   3]\n",
      " [ 14  10  36  33  70  58  15 743   7  14]\n",
      " [ 67  36  10   7   9   5   8   6 827  25]\n",
      " [ 43  93   7  21   9  11   8  12  26 770]]\n"
     ]
    },
    {
     "data": {
      "image/png": "[encoded data removed]",
      "text/plain": [
       "<Figure size 576x576 with 2 Axes>"
      ]
     },
     "metadata": {
      "tags": []
     },
     "output_type": "display_data"
    },
    {
     "name": "stdout",
     "output_type": "stream",
     "text": [
      "              precision    recall  f1-score   support\n",
      "\n",
      "           0       0.74      0.81      0.77      1000\n",
      "           1       0.78      0.81      0.80      1000\n",
      "           2       0.70      0.61      0.65      1000\n",
      "           3       0.58      0.49      0.53      1000\n",
      "           4       0.64      0.69      0.66      1000\n",
      "           5       0.64      0.60      0.62      1000\n",
      "           6       0.67      0.79      0.72      1000\n",
      "           7       0.78      0.74      0.76      1000\n",
      "           8       0.81      0.83      0.82      1000\n",
      "           9       0.80      0.77      0.78      1000\n",
      "\n",
      "    accuracy                           0.71     10000\n",
      "   macro avg       0.71      0.71      0.71     10000\n",
      "weighted avg       0.71      0.71      0.71     10000\n",
      "\n"
     ]
    }
   ],
   "source": [
    "cm_visual(y_true, cnn_tl_pred, categories)"
   ]
  },
  {
   "cell_type": "markdown",
   "metadata": {
    "colab_type": "text",
    "id": "RWLc82NWUbzd"
   },
   "source": [
    "## Example Image Predictions"
   ]
  },
  {
   "cell_type": "code",
   "execution_count": null,
   "metadata": {
    "colab": {
     "base_uri": "https://localhost:8080/",
     "height": 1000
    },
    "colab_type": "code",
    "id": "VudUPd7ROz92",
    "outputId": "d0b2ed1f-d6e8-470d-f12a-3bff0d9b7719"
   },
   "outputs": [
    {
     "name": "stdout",
     "output_type": "stream",
     "text": [
      "\n",
      "Image #3092\n",
      "True Category: 5 - dog\n",
      "NO Transfer Learning CNN Predicted Category: 5 - dog\n",
      "Transfer Learning CNN Predicted Category: 5 - dog\n"
     ]
    },
    {
     "data": {
      "image/png": "[encoded data removed]",
      "text/plain": [
       "<Figure size 432x288 with 1 Axes>"
      ]
     },
     "metadata": {
      "tags": []
     },
     "output_type": "display_data"
    },
    {
     "name": "stdout",
     "output_type": "stream",
     "text": [
      "\n",
      "Image #5600\n",
      "True Category: 6 - frog\n",
      "NO Transfer Learning CNN Predicted Category: 6 - frog\n",
      "Transfer Learning CNN Predicted Category: 6 - frog\n"
     ]
    },
    {
     "data": {
      "image/png": "[encoded data removed]",
      "text/plain": [
       "<Figure size 432x288 with 1 Axes>"
      ]
     },
     "metadata": {
      "tags": []
     },
     "output_type": "display_data"
    },
    {
     "name": "stdout",
     "output_type": "stream",
     "text": [
      "\n",
      "Image #5365\n",
      "True Category: 8 - ship\n",
      "NO Transfer Learning CNN Predicted Category: 8 - ship\n",
      "Transfer Learning CNN Predicted Category: 1 - automobile\n"
     ]
    },
    {
     "data": {
      "image/png": "[encoded data removed]",
      "text/plain": [
       "<Figure size 432x288 with 1 Axes>"
      ]
     },
     "metadata": {
      "tags": []
     },
     "output_type": "display_data"
    },
    {
     "name": "stdout",
     "output_type": "stream",
     "text": [
      "\n",
      "Image #2676\n",
      "True Category: 4 - deer\n",
      "NO Transfer Learning CNN Predicted Category: 6 - frog\n",
      "Transfer Learning CNN Predicted Category: 3 - cat\n"
     ]
    },
    {
     "data": {
      "image/png": "[encoded data removed]",
      "text/plain": [
       "<Figure size 432x288 with 1 Axes>"
      ]
     },
     "metadata": {
      "tags": []
     },
     "output_type": "display_data"
    },
    {
     "name": "stdout",
     "output_type": "stream",
     "text": [
      "\n",
      "Image #5307\n",
      "True Category: 1 - automobile\n",
      "NO Transfer Learning CNN Predicted Category: 1 - automobile\n",
      "Transfer Learning CNN Predicted Category: 1 - automobile\n"
     ]
    },
    {
     "data": {
      "image/png": "[encoded data removed]",
      "text/plain": [
       "<Figure size 432x288 with 1 Axes>"
      ]
     },
     "metadata": {
      "tags": []
     },
     "output_type": "display_data"
    }
   ],
   "source": [
    "for i in range(5):\n",
    "    sample = random.randint(0, 9999)\n",
    "    image = x_test[sample]\n",
    "\n",
    "    plt.imshow(image)\n",
    "     \n",
    "    true_category_index = y_true[sample]\n",
    "    cnn_no_tl_pred_category_index = cnn_no_tl_pred[sample]\n",
    "    cnn_tl_pred_category_index = cnn_tl_pred[sample]\n",
    "    print(f\"\\nImage #{sample}\") \n",
    "    print(f\"True Category: {true_category_index} - {categories[true_category_index]}\")\n",
    "    print(f\"NO Transfer Learning CNN Predicted Category: {cnn_no_tl_pred_category_index} - {categories[cnn_no_tl_pred_category_index]}\")\n",
    "    print(f\"Transfer Learning CNN Predicted Category: {cnn_tl_pred_category_index} - {categories[cnn_tl_pred_category_index]}\")\n",
    "    \n",
    "    plt.show()"
   ]
  }
 ],
 "metadata": {
  "accelerator": "GPU",
  "colab": {
   "collapsed_sections": [],
   "machine_shape": "hm",
   "name": "Project 3 CSC 180",
   "provenance": [],
   "toc_visible": true
  },
  "kernelspec": {
   "display_name": "Python 3",
   "language": "python",
   "name": "python3"
  },
  "language_info": {
   "codemirror_mode": {
    "name": "ipython",
    "version": 3
   },
   "file_extension": ".py",
   "mimetype": "text/x-python",
   "name": "python",
   "nbconvert_exporter": "python",
   "pygments_lexer": "ipython3",
   "version": "3.8.5"
  }
 },
 "nbformat": 4,
 "nbformat_minor": 4
}
